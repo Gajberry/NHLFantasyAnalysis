{
 "cells": [
  {
   "cell_type": "code",
   "execution_count": 3,
   "metadata": {},
   "outputs": [],
   "source": [
    "import requests\n",
    "from tqdm import tqdm\n",
    "import numpy as np\n",
    "import matplotlib.pyplot as plt\n",
    "import math\n",
    "import json\n",
    "import pandas as pd"
   ]
  },
  {
   "cell_type": "code",
   "execution_count": 1,
   "metadata": {},
   "outputs": [],
   "source": [
    "from api_info import *\n",
    "from credentials import *\n",
    "from api_functions import *"
   ]
  },
  {
   "cell_type": "code",
   "execution_count": 4,
   "metadata": {},
   "outputs": [
    {
     "name": "stderr",
     "output_type": "stream",
     "text": [
      "  0%|          | 0/12 [00:00<?, ?it/s]"
     ]
    },
    {
     "name": "stderr",
     "output_type": "stream",
     "text": [
      "100%|██████████| 12/12 [00:04<00:00,  2.81it/s]\n"
     ]
    }
   ],
   "source": [
    "gameIDs = []\n",
    "month = '02'\n",
    "days = range(10,22)\n",
    "for day in tqdm(days):\n",
    "    if len(str(day))==1:\n",
    "        day = \"0\"+str(day)\n",
    "    day_url = f\"https://api-web.nhle.com/v1/score/2025-{month}-{day}\"\n",
    "    r=requests.get(day_url)\n",
    "    try:\n",
    "        gameIDs+=[game[\"id\"] for game in r.json()['games']]\n",
    "    except:\n",
    "        print(month,day)\n",
    "        pass"
   ]
  },
  {
   "cell_type": "code",
   "execution_count": 5,
   "metadata": {},
   "outputs": [
    {
     "name": "stdout",
     "output_type": "stream",
     "text": [
      "Player has irregular eligible slots: Elias N. Pettersson has slots [10, 4, 6, 7, 8]\n"
     ]
    }
   ],
   "source": [
    "d = retrieve_espn_data(swid,espn_s2,league_id)\n",
    "data = clean_data(d)"
   ]
  },
  {
   "cell_type": "code",
   "execution_count": 6,
   "metadata": {},
   "outputs": [],
   "source": [
    "def convert_to_default(name):\n",
    "    parts = name.split()\n",
    "    return f\"{parts[0][0]}. {' '.join(parts[1:])}\"\n"
   ]
  },
  {
   "cell_type": "code",
   "execution_count": 24,
   "metadata": {},
   "outputs": [
    {
     "name": "stderr",
     "output_type": "stream",
     "text": [
      "C:\\Users\\georg\\AppData\\Local\\Temp\\ipykernel_26980\\705551024.py:2: SettingWithCopyWarning: \n",
      "A value is trying to be set on a copy of a slice from a DataFrame.\n",
      "Try using .loc[row_indexer,col_indexer] = value instead\n",
      "\n",
      "See the caveats in the documentation: https://pandas.pydata.org/pandas-docs/stable/user_guide/indexing.html#returning-a-view-versus-a-copy\n",
      "  players['DefaultName'] = players['Name'].apply(convert_to_default)\n"
     ]
    }
   ],
   "source": [
    "players = data[~data['LeagueTeamID'].isna()]\n",
    "players['DefaultName'] = players['Name'].apply(convert_to_default)\n",
    "players.index=players['DefaultName']"
   ]
  },
  {
   "cell_type": "code",
   "execution_count": 25,
   "metadata": {},
   "outputs": [],
   "source": [
    "players_ids = players['LeagueTeamID'].to_dict()"
   ]
  },
  {
   "cell_type": "code",
   "execution_count": 26,
   "metadata": {},
   "outputs": [],
   "source": [
    "score_cats = ['starter','saves','shotsAgainst','goals','assists','toi','players','sog','hits','blockedShots','pim','plusMinus','faceoffWinningPctg','faceoffplayers','wins','powerPlayGoals','powerPlayAssists']"
   ]
  },
  {
   "cell_type": "code",
   "execution_count": 27,
   "metadata": {},
   "outputs": [],
   "source": [
    "score_dict = {\n",
    "    cat:0 for cat in score_cats\n",
    "}"
   ]
  },
  {
   "cell_type": "code",
   "execution_count": 28,
   "metadata": {},
   "outputs": [],
   "source": [
    "scores = {\n",
    "    k:score_dict.copy() for k in range(1,9)\n",
    "}"
   ]
  },
  {
   "cell_type": "code",
   "execution_count": 29,
   "metadata": {},
   "outputs": [
    {
     "name": "stderr",
     "output_type": "stream",
     "text": [
      " 14%|█▍        | 1/7 [00:00<00:02,  2.79it/s]"
     ]
    },
    {
     "name": "stdout",
     "output_type": "stream",
     "text": [
      "PLAYER NOT IN A TEAM: A. Hill\n",
      "PLAYER NOT IN A TEAM: G. Nyquist\n",
      "PLAYER NOT IN A TEAM: V. Arvidsson\n",
      "PLAYER NOT IN A TEAM: J. Brodin\n"
     ]
    },
    {
     "name": "stderr",
     "output_type": "stream",
     "text": [
      " 29%|██▊       | 2/7 [00:00<00:01,  2.63it/s]"
     ]
    },
    {
     "name": "stdout",
     "output_type": "stream",
     "text": [
      "PLAYER NOT IN A TEAM: N. Hanifin\n",
      "PLAYER NOT IN A TEAM: J. Slavin\n",
      "PLAYER NOT IN A TEAM: A. Lundell\n",
      "PLAYER NOT IN A TEAM: E. Luostarinen\n",
      "PLAYER NOT IN A TEAM: J. Armia\n",
      "PLAYER NOT IN A TEAM: E. Haula\n",
      "PLAYER NOT IN A TEAM: T. Teravainen\n",
      "PLAYER NOT IN A TEAM: O. Maatta\n",
      "PLAYER NOT IN A TEAM: H. Jokiharju\n",
      "PLAYER NOT IN A TEAM: U. Vaakanainen\n",
      "PLAYER NOT IN A TEAM: E. Lindell\n",
      "PLAYER NOT IN A TEAM: N. Matinpalo\n",
      "PLAYER NOT IN A TEAM: N. Mikkola\n"
     ]
    },
    {
     "name": "stderr",
     "output_type": "stream",
     "text": [
      " 43%|████▎     | 3/7 [00:01<00:01,  2.52it/s]"
     ]
    },
    {
     "name": "stdout",
     "output_type": "stream",
     "text": [
      "PLAYER NOT IN A TEAM: A. Lundell\n",
      "PLAYER NOT IN A TEAM: E. Luostarinen\n",
      "PLAYER NOT IN A TEAM: E. Haula\n",
      "PLAYER NOT IN A TEAM: T. Teravainen\n",
      "PLAYER NOT IN A TEAM: O. Maatta\n",
      "PLAYER NOT IN A TEAM: H. Jokiharju\n",
      "PLAYER NOT IN A TEAM: U. Vaakanainen\n",
      "PLAYER NOT IN A TEAM: E. Lindell\n",
      "PLAYER NOT IN A TEAM: N. Matinpalo\n",
      "PLAYER NOT IN A TEAM: N. Mikkola\n",
      "PLAYER NOT IN A TEAM: G. Nyquist\n",
      "PLAYER NOT IN A TEAM: V. Arvidsson\n",
      "PLAYER NOT IN A TEAM: J. Brodin\n"
     ]
    },
    {
     "name": "stderr",
     "output_type": "stream",
     "text": [
      " 57%|█████▋    | 4/7 [00:01<00:01,  2.66it/s]"
     ]
    },
    {
     "name": "stdout",
     "output_type": "stream",
     "text": [
      "PLAYER NOT IN A TEAM: N. Hanifin\n",
      "PLAYER NOT IN A TEAM: J. Slavin\n",
      "PLAYER NOT IN A TEAM: A. Hill\n"
     ]
    },
    {
     "name": "stderr",
     "output_type": "stream",
     "text": [
      " 71%|███████▏  | 5/7 [00:01<00:00,  2.73it/s]"
     ]
    },
    {
     "name": "stdout",
     "output_type": "stream",
     "text": [
      "PLAYER NOT IN A TEAM: A. Hill\n",
      "PLAYER NOT IN A TEAM: A. Lundell\n",
      "PLAYER NOT IN A TEAM: E. Luostarinen\n",
      "PLAYER NOT IN A TEAM: J. Armia\n",
      "PLAYER NOT IN A TEAM: E. Haula\n",
      "PLAYER NOT IN A TEAM: O. Maatta\n",
      "PLAYER NOT IN A TEAM: H. Jokiharju\n",
      "PLAYER NOT IN A TEAM: U. Vaakanainen\n",
      "PLAYER NOT IN A TEAM: E. Lindell\n",
      "PLAYER NOT IN A TEAM: N. Matinpalo\n",
      "PLAYER NOT IN A TEAM: N. Mikkola\n"
     ]
    },
    {
     "name": "stderr",
     "output_type": "stream",
     "text": [
      " 86%|████████▌ | 6/7 [00:02<00:00,  2.91it/s]"
     ]
    },
    {
     "name": "stdout",
     "output_type": "stream",
     "text": [
      "PLAYER NOT IN A TEAM: G. Nyquist\n",
      "PLAYER NOT IN A TEAM: V. Arvidsson\n",
      "PLAYER NOT IN A TEAM: L. Carlsson\n",
      "PLAYER NOT IN A TEAM: J. Brodin\n",
      "PLAYER NOT IN A TEAM: S. Ersson\n",
      "PLAYER NOT IN A TEAM: N. Hanifin\n",
      "PLAYER NOT IN A TEAM: J. Slavin\n"
     ]
    },
    {
     "name": "stderr",
     "output_type": "stream",
     "text": [
      "100%|██████████| 7/7 [00:02<00:00,  2.81it/s]"
     ]
    },
    {
     "name": "stdout",
     "output_type": "stream",
     "text": [
      "PLAYER NOT IN A TEAM: A. Hill\n",
      "PLAYER NOT IN A TEAM: N. Hanifin\n",
      "PLAYER NOT IN A TEAM: J. Slavin\n"
     ]
    },
    {
     "name": "stderr",
     "output_type": "stream",
     "text": [
      "\n"
     ]
    }
   ],
   "source": [
    "all_cats = []\n",
    "all_tois = {}\n",
    "for game in tqdm(gameIDs):\n",
    "    game_url = f\"https://api-web.nhle.com/v1/gamecenter/{game}/boxscore\"\n",
    "    try:\n",
    "        all_player_stats=requests.get(game_url).json()['playerByGameStats']\n",
    "        for team_type in ['awayTeam','homeTeam']:\n",
    "            for position in ['forwards','defense','goalies']:\n",
    "                for player in all_player_stats[team_type][position]:\n",
    "                    if player['name']['default'] in list(players_ids.keys()):\n",
    "                        team_id = int(players_ids[player['name']['default']])\n",
    "                        for cat in player:\n",
    "                            if cat not in all_cats:\n",
    "                                all_cats.append(cat)\n",
    "                            if cat in score_cats and cat!='toi':\n",
    "                                scores[team_id][cat]+=player[cat]\n",
    "                            elif cat=='toi':\n",
    "                                temp_name = player['name']['default']\n",
    "                                player_time = 60*int(player[cat][0:2])+int(player[cat][3:])\n",
    "                                scores[team_id][cat]+=player_time\n",
    "                                if temp_name in all_tois:\n",
    "                                    all_tois[temp_name].append(player_time)\n",
    "                                    \n",
    "                                else:\n",
    "                                    all_tois[temp_name] = [player_time]\n",
    "                            if cat=='faceoffWinningPctg' and player[cat]>0:\n",
    "                                scores[team_id]['faceoffplayers']+=1\n",
    "                            if cat=='decision':\n",
    "                                if player[cat]=='W':\n",
    "                                    scores[team_id]['wins']+=1\n",
    "                        scores[team_id]['players']+=1\n",
    "                    else:\n",
    "                        print('PLAYER NOT IN A TEAM:', player['name']['default'])      \n",
    "    except KeyError:\n",
    "        print('No game', game)"
   ]
  },
  {
   "cell_type": "code",
   "execution_count": 30,
   "metadata": {},
   "outputs": [],
   "source": [
    "all_tois_average = {}\n",
    "for player in all_tois:\n",
    "    all_tois_average[player]=np.mean(all_tois[player])"
   ]
  },
  {
   "cell_type": "code",
   "execution_count": 31,
   "metadata": {},
   "outputs": [],
   "source": [
    "all_tois_average_list = list(all_tois_average.items())\n",
    "all_tois_average_list.sort(key=lambda x:x[1])"
   ]
  },
  {
   "cell_type": "code",
   "execution_count": 32,
   "metadata": {},
   "outputs": [],
   "source": [
    "all_tois_average_list.reverse()"
   ]
  },
  {
   "cell_type": "code",
   "execution_count": 33,
   "metadata": {},
   "outputs": [
    {
     "data": {
      "text/plain": [
       "[('J. Binnington', 3790.75),\n",
       " ('C. Hellebuyck', 3766.0),\n",
       " ('J. Saros', 1820.0),\n",
       " ('K. Lankinen', 1737.3333333333333),\n",
       " ('F. Gustavsson', 1717.3333333333333),\n",
       " ('C. Makar', 1606.6666666666667),\n",
       " ('V. Hedman', 1518.6666666666667),\n",
       " ('D. Toews', 1445.75),\n",
       " ('B. Faber', 1400.25),\n",
       " ('G. Forsling', 1332.0),\n",
       " ('A. Barkov', 1305.0),\n",
       " ('J. Morrissey', 1292.3333333333333),\n",
       " ('J. Guentzel', 1275.75),\n",
       " ('C. McDavid', 1256.0),\n",
       " ('L. Ullmark', 1249.0),\n",
       " ('J. Eichel', 1247.0),\n",
       " ('Z. Werenski', 1241.75),\n",
       " ('M. Rantanen', 1235.3333333333333),\n",
       " ('M. Zibanejad', 1230.5),\n",
       " ('A. Matthews', 1226.0),\n",
       " ('W. Nylander', 1211.6666666666667),\n",
       " ('T. Harley', 1206.5),\n",
       " ('D. Doughty', 1197.25),\n",
       " ('J. Eriksson Ek', 1183.6666666666667),\n",
       " ('C. McAvoy', 1176.0),\n",
       " ('C. Parayko', 1151.5),\n",
       " ('S. Aho', 1119.6666666666667),\n",
       " ('N. MacKinnon', 1116.0),\n",
       " ('J. Sanderson', 1106.0),\n",
       " ('L. Raymond', 1099.6666666666667),\n",
       " ('E. Karlsson', 1088.6666666666667),\n",
       " ('A. Kempe', 1082.0),\n",
       " ('J. Hughes', 1074.75),\n",
       " ('M. Marner', 1070.25),\n",
       " ('R. Dahlin', 1065.6666666666667),\n",
       " ('S. Reinhart', 1060.75),\n",
       " ('S. Crosby', 1054.75),\n",
       " ('R. Hintz', 1047.6666666666667),\n",
       " ('J. Bratt', 1047.0),\n",
       " ('T. Sanheim', 1042.0),\n",
       " ('B. Point', 1024.5),\n",
       " ('A. Fox', 1011.0),\n",
       " ('M. Granlund', 1006.0),\n",
       " ('J. Miller', 1001.75),\n",
       " ('R. Rakell', 989.5),\n",
       " ('M. Stone', 986.0),\n",
       " ('M. Boldy', 971.75),\n",
       " ('D. Larkin', 964.75),\n",
       " ('P. Laine', 954.0),\n",
       " ('A. Lehkonen', 938.3333333333334),\n",
       " ('M. Ekholm', 905.0),\n",
       " ('F. Forsberg', 900.6666666666666),\n",
       " ('B. Hagel', 887.25),\n",
       " ('J. Oettinger', 873.75),\n",
       " ('B. Nelson', 862.75),\n",
       " ('A. Cirelli', 818.25),\n",
       " ('E. Pettersson', 812.0),\n",
       " ('R. Andersson', 797.0),\n",
       " ('E. Lindholm', 780.0),\n",
       " ('K. Connor', 747.3333333333334),\n",
       " ('K. Kakko', 740.0),\n",
       " ('S. Bennett', 723.3333333333334),\n",
       " ('B. Tkachuk', 717.5),\n",
       " ('M. Tkachuk', 714.6666666666666),\n",
       " ('C. Kreider', 703.0),\n",
       " ('S. Jarvis', 699.6666666666666),\n",
       " ('B. Marchand', 695.25),\n",
       " ('T. Konecny', 675.5),\n",
       " ('V. Trocheck', 671.25),\n",
       " ('S. Theodore', 419.0),\n",
       " ('J. Swayman', 0.0)]"
      ]
     },
     "execution_count": 33,
     "metadata": {},
     "output_type": "execute_result"
    }
   ],
   "source": [
    "all_tois_average_list"
   ]
  },
  {
   "cell_type": "code",
   "execution_count": 34,
   "metadata": {},
   "outputs": [],
   "source": [
    "for team_id in range(1,9):\n",
    "    scores[team_id]['atoi']=scores[team_id]['toi']/scores[team_id]['players']/60\n",
    "    if scores[team_id]['shotsAgainst']==0:\n",
    "        scores[team_id]['savePctg']=0\n",
    "    else:\n",
    "        scores[team_id]['savePctg']=scores[team_id]['saves']/scores[team_id]['shotsAgainst']\n",
    "    scores[team_id]['powerPlayPoints']=scores[team_id]['powerPlayGoals']+scores[team_id]['powerPlayAssists']"
   ]
  },
  {
   "cell_type": "code",
   "execution_count": 35,
   "metadata": {},
   "outputs": [],
   "source": [
    "final_score_cats = ['powerPlayPoints','starter','savePctg','goals','assists','atoi','sog','hits','blockedShots','pim','plusMinus','faceoffWinningPctg','wins']"
   ]
  },
  {
   "cell_type": "code",
   "execution_count": 36,
   "metadata": {},
   "outputs": [
    {
     "name": "stdout",
     "output_type": "stream",
     "text": [
      "starter [2, 8] 0.14285714285714285\n",
      "saves [8] 3.4642857142857144\n",
      "shotsAgainst [8] 3.8214285714285716\n",
      "goals [3] 0.38235294117647056\n",
      "assists [8] 0.5\n",
      "toi [8] 1497.7857142857142\n",
      "players [1, 2, 3, 4, 5, 6, 7, 8] 1.0\n",
      "sog [6, 8] 2.0\n",
      "hits [3] 1.7941176470588236\n",
      "blockedShots [3] 1.0294117647058822\n",
      "pim [5] 0.5185185185185185\n",
      "plusMinus [8] 0.2857142857142857\n",
      "faceoffWinningPctg [3] 0.33352767647058823\n",
      "faceoffplayers [3] 0.5\n",
      "wins [8] 0.10714285714285714\n",
      "powerPlayGoals [5] 0.07407407407407407\n",
      "powerPlayAssists [1, 2, 3, 4, 5, 6, 7, 8] 0\n",
      "atoi [2] 1.1418367346938776\n",
      "savePctg [2] 0.0444015444015444\n",
      "powerPlayPoints [5] 0.07407407407407407\n"
     ]
    }
   ],
   "source": [
    "\n",
    "for cat in scores[1]:\n",
    "    highest = 0\n",
    "    highest_team = []\n",
    "    for i in range(1,9):\n",
    "        if scores[i][cat]/scores[i]['players']>highest:\n",
    "            highest = scores[i][cat]/scores[i]['players']\n",
    "            highest_team=[i]\n",
    "        elif scores[i][cat]/scores[i]['players']==highest:\n",
    "            highest_team.append(i)\n",
    "\n",
    "    print(cat,highest_team,highest)"
   ]
  },
  {
   "cell_type": "code",
   "execution_count": null,
   "metadata": {},
   "outputs": [],
   "source": []
  },
  {
   "cell_type": "code",
   "execution_count": 38,
   "metadata": {},
   "outputs": [
    {
     "name": "stdout",
     "output_type": "stream",
     "text": [
      "powerPlayPoints [3, 5] 2\n",
      "starter [8] 4\n",
      "savePctg [2] 0.9324324324324325\n",
      "goals [3] 13\n",
      "assists [8] 14\n",
      "atoi [8] 24.96309523809524\n",
      "sog [3] 65\n",
      "hits [3] 61\n",
      "blockedShots [1] 41\n",
      "pim [1] 16\n",
      "plusMinus [8] 8\n",
      "faceoffWinningPctg [3] 11.339941\n",
      "wins [8] 3\n"
     ]
    }
   ],
   "source": [
    "\n",
    "for cat in scores[1]:\n",
    "    highest = 0\n",
    "    highest_team = []\n",
    "    for i in range(1,9):\n",
    "        if scores[i][cat]>highest:\n",
    "            highest = scores[i][cat]\n",
    "            highest_team=[i]\n",
    "        elif scores[i][cat]==highest:\n",
    "            highest_team.append(i)\n",
    "\n",
    "    print(cat,highest_team,highest)"
   ]
  },
  {
   "cell_type": "code",
   "execution_count": null,
   "metadata": {},
   "outputs": [
    {
     "ename": "KeyError",
     "evalue": "'players'",
     "output_type": "error",
     "traceback": [
      "\u001b[1;31m---------------------------------------------------------------------------\u001b[0m",
      "\u001b[1;31mKeyError\u001b[0m                                  Traceback (most recent call last)",
      "Cell \u001b[1;32mIn[22], line 5\u001b[0m\n\u001b[0;32m      3\u001b[0m highest_team \u001b[38;5;241m=\u001b[39m []\n\u001b[0;32m      4\u001b[0m \u001b[38;5;28;01mfor\u001b[39;00m i \u001b[38;5;129;01min\u001b[39;00m \u001b[38;5;28mrange\u001b[39m(\u001b[38;5;241m1\u001b[39m,\u001b[38;5;241m9\u001b[39m):\n\u001b[1;32m----> 5\u001b[0m     \u001b[38;5;28;01mif\u001b[39;00m scores[i][cat]\u001b[38;5;241m/\u001b[39m\u001b[43mscores\u001b[49m\u001b[43m[\u001b[49m\u001b[43mi\u001b[49m\u001b[43m]\u001b[49m\u001b[43m[\u001b[49m\u001b[38;5;124;43m'\u001b[39;49m\u001b[38;5;124;43mplayers\u001b[39;49m\u001b[38;5;124;43m'\u001b[39;49m\u001b[43m]\u001b[49m\u001b[38;5;241m>\u001b[39mhighest:\n\u001b[0;32m      6\u001b[0m         highest \u001b[38;5;241m=\u001b[39m scores[i][cat]\u001b[38;5;241m/\u001b[39mscores[i][\u001b[38;5;124m'\u001b[39m\u001b[38;5;124mplayers\u001b[39m\u001b[38;5;124m'\u001b[39m]\n\u001b[0;32m      7\u001b[0m         highest_team\u001b[38;5;241m=\u001b[39m[i]\n",
      "\u001b[1;31mKeyError\u001b[0m: 'players'"
     ]
    }
   ],
   "source": [
    "for team_id in range(1,9):\n",
    "    scores[team_id] = {k:scores[team_id][k] for k in final_score_cats}"
   ]
  },
  {
   "cell_type": "code",
   "execution_count": 39,
   "metadata": {},
   "outputs": [],
   "source": [
    "team_week_scores = {}\n",
    "team_matrix = np.zeros((8,8))\n",
    "min_weeks = 0\n",
    "weeks = 18\n",
    "\n",
    "for team_id in scores:\n",
    "    wins = 0\n",
    "    draws = 0\n",
    "    losses = 0\n",
    "    total_cat_wins = 0\n",
    "    total_cat_losses = 0\n",
    "    total_cat_draws = 0\n",
    "    for second_team_id in scores:\n",
    "        if team_id==second_team_id:\n",
    "            continue\n",
    "        cats_won = 0\n",
    "        cats_lost = 0\n",
    "        team = scores[team_id]\n",
    "        second_team = scores[second_team_id]\n",
    "        for score_cat in team:\n",
    "            if team[score_cat]>second_team[score_cat]:\n",
    "                cats_won+=1\n",
    "            elif team[score_cat]<second_team[score_cat]:\n",
    "                cats_lost+=1\n",
    "        total_cat_wins+=cats_won\n",
    "        total_cat_losses+=cats_lost\n",
    "        total_cat_draws+=13-cats_won-cats_lost\n",
    "        if cats_won>cats_lost:\n",
    "            wins+=1\n",
    "            team_matrix[team_id-1,second_team_id-1]+=1\n",
    "            team_matrix[second_team_id-1,team_id-1]-=1\n",
    "        elif cats_won<cats_lost:\n",
    "            losses+=1\n",
    "            team_matrix[team_id-1,second_team_id-1]-=1\n",
    "            team_matrix[second_team_id-1,team_id-1]+=1\n",
    "        else:\n",
    "            draws+=1\n",
    "        # if week == 15 and team_id==8:\n",
    "            # print('ID', second_team_id,'Winning',cats_won,'Losing',cats_lost)\n",
    "    if team_id in team_week_scores:\n",
    "        team_week_scores[team_id]+=np.array([wins,losses,draws,total_cat_wins,total_cat_losses,total_cat_draws])\n",
    "    else:\n",
    "        team_week_scores[team_id]=np.array([wins,losses,draws,total_cat_wins,total_cat_losses,total_cat_draws])\n",
    "    "
   ]
  },
  {
   "cell_type": "code",
   "execution_count": 40,
   "metadata": {},
   "outputs": [
    {
     "data": {
      "text/plain": [
       "[(8, array([ 6,  0,  1, 60, 26,  5])),\n",
       " (3, array([ 5,  1,  1, 56, 27,  8])),\n",
       " (1, array([ 4,  0,  3, 53, 29,  9])),\n",
       " (2, array([ 3,  2,  2, 45, 36, 10])),\n",
       " (5, array([ 3,  3,  1, 53, 32,  6])),\n",
       " (7, array([ 2,  5,  0, 38, 42, 11])),\n",
       " (6, array([ 1,  6,  0, 16, 61, 14])),\n",
       " (4, array([ 0,  7,  0,  5, 73, 13]))]"
      ]
     },
     "execution_count": 40,
     "metadata": {},
     "output_type": "execute_result"
    }
   ],
   "source": [
    "sorted(team_week_scores.items(),key=lambda x:x[1][0],reverse=True)"
   ]
  },
  {
   "cell_type": "code",
   "execution_count": 41,
   "metadata": {},
   "outputs": [
    {
     "data": {
      "text/plain": [
       "<matplotlib.colorbar.Colorbar at 0x193b28e10d0>"
      ]
     },
     "execution_count": 41,
     "metadata": {},
     "output_type": "execute_result"
    },
    {
     "data": {
      "image/png": "[encoded data removed]",
      "text/plain": [
       "<Figure size 640x480 with 2 Axes>"
      ]
     },
     "metadata": {},
     "output_type": "display_data"
    }
   ],
   "source": [
    "plt.imshow(team_matrix)\n",
    "plt.colorbar()"
   ]
  }
 ],
 "metadata": {
  "kernelspec": {
   "display_name": "Python 3",
   "language": "python",
   "name": "python3"
  },
  "language_info": {
   "codemirror_mode": {
    "name": "ipython",
    "version": 3
   },
   "file_extension": ".py",
   "mimetype": "text/x-python",
   "name": "python",
   "nbconvert_exporter": "python",
   "pygments_lexer": "ipython3",
   "version": "3.11.0"
  }
 },
 "nbformat": 4,
 "nbformat_minor": 2
}
