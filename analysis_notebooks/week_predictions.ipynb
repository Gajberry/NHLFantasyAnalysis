{
 "cells": [
  {
   "cell_type": "markdown",
   "metadata": {},
   "source": [
    "# WEEK PREDICTIONS"
   ]
  },
  {
   "cell_type": "markdown",
   "metadata": {},
   "source": [
    "This notebook simulates a week between two teams by finding the expected count of each category for each player."
   ]
  },
  {
   "cell_type": "code",
   "execution_count": null,
   "metadata": {},
   "outputs": [],
   "source": [
    "import pandas as pd\n",
    "import matplotlib.pyplot as plt\n",
    "import numpy as np\n",
    "from tqdm import tqdm"
   ]
  },
  {
   "cell_type": "code",
   "execution_count": null,
   "metadata": {},
   "outputs": [],
   "source": [
    "%load_ext autoreload\n",
    "%autoreload 2"
   ]
  },
  {
   "cell_type": "code",
   "execution_count": null,
   "metadata": {},
   "outputs": [],
   "source": [
    "import sys\n",
    "sys.path.append(\"..\")\n",
    "from base_python_files.api_info import *\n",
    "from base_python_files.credentials import *\n",
    "from base_python_files.api_functions import *\n",
    "from base_python_files.stat_functions import *"
   ]
  },
  {
   "cell_type": "code",
   "execution_count": null,
   "metadata": {},
   "outputs": [],
   "source": [
    "d = retrieve_espn_data(swid,espn_s2,league_id)\n",
    "data = clean_data(d)"
   ]
  },
  {
   "cell_type": "code",
   "execution_count": null,
   "metadata": {},
   "outputs": [],
   "source": [
    "data[\"Team\"] = data[\"TeamID\"].map(team_dict)\n"
   ]
  },
  {
   "cell_type": "code",
   "execution_count": null,
   "metadata": {},
   "outputs": [],
   "source": [
    "skater_cats = [\n",
    "    \"goals\",\n",
    "    \"assists\",\n",
    "    \"plus_minus\",\n",
    "    \"penalty_minutes\",\n",
    "    \"power play points\",\n",
    "    \"FOW\",\n",
    "    \"average_time_on_ice\",\n",
    "    \"shots_on_goal\",\n",
    "    \"hits\",\n",
    "    \"blocks\",\n",
    "]"
   ]
  },
  {
   "cell_type": "code",
   "execution_count": null,
   "metadata": {},
   "outputs": [],
   "source": [
    "metric = \"30\"\n",
    "\n",
    "skater_data = data[(data[\"Position\"] != \"GK\")]\n",
    "\n",
    "played_players = skater_data.copy()\n",
    "\n",
    "played_players[\"Team\"] = played_players[\"TeamID\"].map(team_dict)\n",
    "played_players = played_players[\n",
    "    (played_players[\"InjuryStatus\"] != \"INJURY_RESERVE\")\n",
    "    & (played_players[\"InjuryStatus\"] != \"OUT\")\n",
    "]\n",
    "\n",
    "for cat in skater_cats:\n",
    "    played_players[cat] = played_players[cat + metric]\n",
    "played_players = played_players[[\"ID\", \"Name\", \"Team\", \"LeagueTeamID\"] + skater_cats]"
   ]
  },
  {
   "cell_type": "code",
   "execution_count": null,
   "metadata": {},
   "outputs": [],
   "source": [
    "# games = pd.read_csv(\"schedules/this_weeks_games.csv\")\n",
    "# games = pd.read_csv(\"schedules/next_weeks_games.csv\")\n",
    "games = pd.read_csv(\"../schedules/penultimate_week.csv\")\n",
    "g_id = 8\n",
    "opp_id = 3\n",
    "g_team = played_players[played_players[\"LeagueTeamID\"] == g_id]\n",
    "opp_team = played_players[played_players[\"LeagueTeamID\"] == opp_id]"
   ]
  },
  {
   "cell_type": "code",
   "execution_count": null,
   "metadata": {},
   "outputs": [],
   "source": [
    "len(g_team), len(opp_team)"
   ]
  },
  {
   "cell_type": "code",
   "execution_count": null,
   "metadata": {},
   "outputs": [],
   "source": [
    "week = 16\n",
    "team_scores = retrieve_espn_matchup(swid,espn_s2,league_id,week)\n",
    "# Unused due to delay"
   ]
  },
  {
   "cell_type": "code",
   "execution_count": null,
   "metadata": {},
   "outputs": [],
   "source": [
    "current_opp_scores_list = [0 for _ in skater_cats]\n",
    "current_g_scores_list = [0 for _ in skater_cats]\n",
    "\n",
    "\n",
    "current_g_atoi = 0\n",
    "current_g_players = 1\n",
    "current_opp_atoi = 0\n",
    "current_opp_players = 1\n",
    "\n",
    "current_opp_scores = {\n",
    "    skater_cats[i]: current_opp_scores_list[i] for i in range(len(skater_cats))\n",
    "}\n",
    "current_g_scores = {\n",
    "    skater_cats[i]: current_g_scores_list[i] for i in range(len(skater_cats))\n",
    "}\n",
    "\n",
    "\n",
    "dropped_days_g = {}\n",
    "dropped_days_opp = {}\n",
    "swapped_days_g = {}\n",
    "swapped_days_opp = {}"
   ]
  },
  {
   "cell_type": "code",
   "execution_count": null,
   "metadata": {},
   "outputs": [],
   "source": [
    "# current_g_atoi = 20 * 60 + 3\n",
    "# current_g_players = 69\n",
    "# current_opp_atoi = 0 * 60 + 58\n",
    "# current_opp_players = 68\n",
    "\n",
    "# current_opp_scores_list = [\n",
    "#     9,\n",
    "#     18,\n",
    "#     0,\n",
    "#     33,\n",
    "#     9,\n",
    "#     78,\n",
    "#     current_opp_atoi * current_opp_players / 60,\n",
    "#     67,\n",
    "#     45,\n",
    "#     32,\n",
    "# ]\n",
    "# current_g_scores_list = [\n",
    "#     10,\n",
    "#     14,\n",
    "#     13,\n",
    "#     19,\n",
    "#     3,\n",
    "#     61,\n",
    "#     current_g_atoi * current_g_players / 60,\n",
    "#     75,\n",
    "#     40,\n",
    "#     36,\n",
    "# ]\n",
    "\n",
    "\n",
    "# current_opp_scores = {\n",
    "#     skater_cats[i]: current_opp_scores_list[i] for i in range(len(skater_cats))\n",
    "# }\n",
    "# current_g_scores = {\n",
    "#     skater_cats[i]: current_g_scores_list[i] for i in range(len(skater_cats))\n",
    "# }"
   ]
  },
  {
   "cell_type": "code",
   "execution_count": null,
   "metadata": {},
   "outputs": [],
   "source": [
    "# swapped_days_g = {}\n",
    "# swapped_days_g[\"Monday\"]=[('Braden Schneider','Cam Fowler'),('Nikita Zadorov','Ben Chiarot')]"
   ]
  },
  {
   "cell_type": "code",
   "execution_count": null,
   "metadata": {},
   "outputs": [],
   "source": [
    "# dropped_days_g['Tuesday']=['Steven Stamkos','Carter Verhaeghe','Alexis Lafreniere','Mika Zibanejad']"
   ]
  },
  {
   "cell_type": "code",
   "execution_count": null,
   "metadata": {},
   "outputs": [],
   "source": [
    "# current_day = \"Thursday\"\n",
    "current_day = None\n",
    "predict_tomorrow = False"
   ]
  },
  {
   "cell_type": "code",
   "execution_count": null,
   "metadata": {},
   "outputs": [],
   "source": [
    "teams = (g_team,opp_team)\n",
    "scores = (current_g_scores,current_opp_scores)\n",
    "swapped_days = (swapped_days_g,swapped_days_opp)\n",
    "dropped_days = (dropped_days_g,dropped_days_opp)\n",
    "current_players = (current_g_players,current_opp_players)\n",
    "overall_wins,win_cats,num_players,win_differences = get_week_predictions(teams, played_players,games,skater_cats,scores,swapped_days,dropped_days,current_players,current_day=current_day,predict_tomorrow=predict_tomorrow)\n",
    "\n",
    "print(overall_wins)\n",
    "print(\"Win cats: \", win_cats)\n",
    "print(num_players)"
   ]
  },
  {
   "cell_type": "markdown",
   "metadata": {},
   "source": [
    "## Which games are the most important?"
   ]
  },
  {
   "cell_type": "code",
   "execution_count": null,
   "metadata": {},
   "outputs": [],
   "source": [
    "# games_analysis = pd.read_csv(\"../schedules/this_weeks_games.csv\")\n",
    "games_analysis = pd.read_csv(\"../schedules/next_weeks_games.csv\")\n",
    "games_analysis = games_analysis[[\"Day\", \"Home Team\", \"Away Team\"]]"
   ]
  },
  {
   "cell_type": "code",
   "execution_count": null,
   "metadata": {},
   "outputs": [],
   "source": [
    "def g_team_counts(team):\n",
    "    return len(g_team[g_team[\"Team\"] == team])\n",
    "\n",
    "\n",
    "def opp_team_counts(team):\n",
    "    return len(opp_team[opp_team[\"Team\"] == team])"
   ]
  },
  {
   "cell_type": "code",
   "execution_count": null,
   "metadata": {},
   "outputs": [],
   "source": [
    "games_analysis[\"Home Team g\"] = games_analysis[\"Home Team\"].apply(g_team_counts)\n",
    "games_analysis[\"Away Team g\"] = games_analysis[\"Away Team\"].apply(g_team_counts)\n",
    "games_analysis[\"Home Team opp\"] = games_analysis[\"Home Team\"].apply(opp_team_counts)\n",
    "games_analysis[\"Away Team opp\"] = games_analysis[\"Away Team\"].apply(opp_team_counts)\n",
    "\n",
    "games_analysis[\"Home Bias\"] = (\n",
    "    games_analysis[\"Home Team g\"]\n",
    "    - games_analysis[\"Home Team opp\"]\n",
    "    - games_analysis[\"Away Team g\"]\n",
    "    + games_analysis[\"Away Team opp\"]\n",
    ")\n",
    "games_analysis[\"Preferred result\"] = games_analysis[\"Away Team\"].where(\n",
    "    games_analysis[\"Home Bias\"] < 0\n",
    ")\n",
    "games_analysis[\"Preferred result\"].loc[games_analysis[\"Home Bias\"] > 0] = (\n",
    "    games_analysis[\"Home Team\"]\n",
    ")\n",
    "games_analysis[\"Result Importance\"] = abs(games_analysis[\"Home Bias\"])\n",
    "games_analysis[\"Total players\"] = (\n",
    "    games_analysis[\"Home Team g\"]\n",
    "    + games_analysis[\"Away Team g\"]\n",
    "    + games_analysis[\"Home Team opp\"]\n",
    "    + games_analysis[\"Away Team opp\"]\n",
    ")"
   ]
  },
  {
   "cell_type": "code",
   "execution_count": null,
   "metadata": {},
   "outputs": [],
   "source": [
    "games_analysis.sort_values(by=\"Result Importance\", ascending=False)"
   ]
  }
 ],
 "metadata": {
  "kernelspec": {
   "display_name": "Python 3",
   "language": "python",
   "name": "python3"
  },
  "language_info": {
   "codemirror_mode": {
    "name": "ipython",
    "version": 3
   },
   "file_extension": ".py",
   "mimetype": "text/x-python",
   "name": "python",
   "nbconvert_exporter": "python",
   "pygments_lexer": "ipython3",
   "version": "3.11.0"
  }
 },
 "nbformat": 4,
 "nbformat_minor": 2
}
