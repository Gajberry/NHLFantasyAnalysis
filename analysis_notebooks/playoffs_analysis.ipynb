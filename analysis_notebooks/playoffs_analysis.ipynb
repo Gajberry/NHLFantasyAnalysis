{
 "cells": [
  {
   "cell_type": "markdown",
   "metadata": {},
   "source": [
    "# Playoffs Analysis"
   ]
  },
  {
   "cell_type": "markdown",
   "metadata": {},
   "source": [
    "This notebook compines week_predictions.ipynb with player_analysis.ipynb to the two playof weeks to allow for detailed analysis."
   ]
  },
  {
   "cell_type": "code",
   "execution_count": null,
   "metadata": {},
   "outputs": [],
   "source": [
    "import pandas as pd\n",
    "import matplotlib.pyplot as plt"
   ]
  },
  {
   "cell_type": "code",
   "execution_count": null,
   "metadata": {},
   "outputs": [],
   "source": [
    "%load_ext autoreload\n",
    "%autoreload 2"
   ]
  },
  {
   "cell_type": "markdown",
   "metadata": {},
   "source": [
    "## Player Analysis"
   ]
  },
  {
   "cell_type": "code",
   "execution_count": null,
   "metadata": {},
   "outputs": [],
   "source": [
    "import sys\n",
    "sys.path.append(\"..\")\n",
    "from base_python_files.api_info import *\n",
    "from base_python_files.credentials import *\n",
    "from base_python_files.api_functions import *\n",
    "from base_python_files.stat_functions import *"
   ]
  },
  {
   "cell_type": "code",
   "execution_count": null,
   "metadata": {},
   "outputs": [],
   "source": [
    "d = retrieve_espn_data(swid,espn_s2,league_id)\n",
    "data = clean_data(d)"
   ]
  },
  {
   "cell_type": "code",
   "execution_count": null,
   "metadata": {},
   "outputs": [],
   "source": [
    "\n",
    "scoring_weights = {\n",
    "    \"FOW\": 1,\n",
    "    \"assists\": 1,\n",
    "    \"average_time_on_ice\": 1,\n",
    "    \"blocks\": 0,\n",
    "    \"goals\": 1,\n",
    "    \"hits\": 1,\n",
    "    \"penalty_minutes\": 1,\n",
    "    \"plus_minus\": 0,\n",
    "    \"power play points\": 1,\n",
    "    \"shots_on_goal\": 1,\n",
    "}\n",
    "\n",
    "\n",
    "scoring_weights = {\n",
    "    \"FOW\": 1,\n",
    "    \"assists\": 0,\n",
    "    \"average_time_on_ice\": 1,\n",
    "    \"blocks\": 0,\n",
    "    \"goals\": 0,\n",
    "    \"hits\": 1,\n",
    "    \"penalty_minutes\": 0,\n",
    "    \"plus_minus\": 0,\n",
    "    \"power play points\": 1,\n",
    "    \"shots_on_goal\": 1,\n",
    "}"
   ]
  },
  {
   "cell_type": "code",
   "execution_count": null,
   "metadata": {},
   "outputs": [],
   "source": [
    "games = pd.read_csv(\"../schedules/playoff_week_2_games.csv\")\n",
    "away_team_number = dict(games[\"Away Team\"].value_counts())\n",
    "home_team_number = dict(games[\"Home Team\"].value_counts())\n",
    "team_total_plays = {}\n",
    "for team in team_dict.values():\n",
    "    if team not in away_team_number:\n",
    "        away_team_number[team] = 0\n",
    "    if team not in home_team_number:\n",
    "        home_team_number[team] = 0\n",
    "    team_total_plays[team] = int(away_team_number[team] + home_team_number[team])\n",
    "team_total_plays[np.nan] = 0\n",
    "\n",
    "\n",
    "weekend_games = games[games[\"Day\"].isin([\"Saturday\", \"Sunday\"])]\n",
    "away_team_number = dict(weekend_games[\"Away Team\"].value_counts())\n",
    "home_team_number = dict(weekend_games[\"Home Team\"].value_counts())\n",
    "team_weekend_plays = {}\n",
    "for team in team_dict.values():\n",
    "    if team not in away_team_number:\n",
    "        away_team_number[team] = 0\n",
    "    if team not in home_team_number:\n",
    "        home_team_number[team] = 0\n",
    "    team_weekend_plays[team] = int(away_team_number[team] + home_team_number[team])\n",
    "team_weekend_plays[np.nan] = 0\n",
    "\n",
    "\n",
    "skater_data = data[(data[\"Position\"] != \"GK\")].copy()\n",
    "\n",
    "played_players = skater_data  # [skater_data['games_played so far']>=3]\n",
    "played_players = skater_data[(skater_data[\"games_playedAT\"] >= 2)]\n",
    "for addition in [\" week\", \" weekend\", \" single\"]:\n",
    "    for stat_name in all_stats_names:\n",
    "        played_players[\"sum scores \" + stat_name + addition] = 0\n",
    "\n",
    "played_players[\"Team\"] = played_players[\"TeamID\"].map(team_dict)\n",
    "played_players[\"Games in playoff\"] = played_players[\"Team\"].apply(\n",
    "    lambda x: team_total_plays[x]\n",
    ")\n",
    "played_players[\"Games in playoff weekend\"] = played_players[\"Team\"].apply(\n",
    "    lambda x: team_weekend_plays[x]\n",
    ")\n",
    "\n",
    "for cat in scoring_weights:\n",
    "    for stat_name in all_stats_names:\n",
    "        played_players[cat + stat_name + \" week\"] = (\n",
    "            played_players[cat + stat_name] * played_players[\"Games in playoff\"]\n",
    "        )\n",
    "        played_players[cat + stat_name + \" weekend\"] = (\n",
    "            played_players[cat + stat_name]\n",
    "            * played_players[\"Games in playoff weekend\"]\n",
    "        )\n",
    "        played_players[cat + stat_name + \" single\"] = played_players[cat + stat_name]\n",
    "        \n",
    "    # SHOULD ATOI BE INCLUDED IN THIS?"
   ]
  },
  {
   "cell_type": "code",
   "execution_count": null,
   "metadata": {},
   "outputs": [],
   "source": [
    "for cat in scoring_weights:\n",
    "    for stat_name in all_stats_names:\n",
    "        # cat_team_mean = played_players[~played_players[\"LeagueTeamID\"].isna()][cat+stat_name].mean()\n",
    "        # cat_team_std = played_players[~played_players[\"LeagueTeamID\"].isna()][cat+stat_name].std()\n",
    "        cat_team_mean = played_players[played_players[\"LeagueTeamID\"] == 3][\n",
    "            cat + \"AT\"\n",
    "        ].mean()\n",
    "        cat_team_std = played_players[played_players[\"LeagueTeamID\"] == 3][\n",
    "            cat + \"AT\"\n",
    "        ].std()\n",
    "        for addition in [\" week\", \" weekend\",\" single\"]:\n",
    "            played_players[cat + \" stat\" + addition] = (\n",
    "                played_players[cat + stat_name + addition] - cat_team_mean\n",
    "            ) / cat_team_std\n",
    "            # played_players[cat+\" stat\"]=(played_players[cat+ \" so far\"]-played_players[cat+ \" so far\"].mean())/played_players[cat+ \" so far\"].std()\n",
    "            if cat in scoring_weights:\n",
    "                played_players[\"sum scores \" + stat_name + addition] += (\n",
    "                    played_players[cat + \" stat\" + addition] * scoring_weights[cat]\n",
    "                )\n",
    "\n",
    "played_players = played_players[\n",
    "    [\"ID\", \"Name\", \"TeamID\", \"LeagueTeamID\", \"Position\", \"InjuryStatus\"]\n",
    "    + [\"sum scores \" + stat_name + \" week\" for stat_name in all_stats_names]\n",
    "    + [\"sum scores \" + stat_name + \" weekend\" for stat_name in all_stats_names]\n",
    "    + [\"sum scores \" + stat_name + \" single\" for stat_name in all_stats_names]\n",
    "    + [\"games_played\" + stat_name for stat_name in all_stats_names]\n",
    "]\n",
    "# played_players=played_players[played_players[\"InjuryStatus\"]!='INJURY_RESERVE']\n",
    "\n",
    "my_players = played_players[(played_players[\"LeagueTeamID\"] == 8)]\n",
    "available_players = played_players[\n",
    "    (played_players[\"InjuryStatus\"] == \"ACTIVE\")\n",
    "    & (played_players[\"LeagueTeamID\"].isna())\n",
    "]"
   ]
  },
  {
   "cell_type": "code",
   "execution_count": null,
   "metadata": {},
   "outputs": [],
   "source": [
    "teams_not_playing_saturday = [\n",
    "    \"Anaheim Ducks\",\n",
    "    \"Pittsburgh Penguins\",\n",
    "    \"Columbus Blue Jackets\",\n",
    "    \"Winnipeg Jets\",\n",
    "]\n",
    "\n",
    "reversed_team_ids = {v: k for k, v in team_dict.items()}\n",
    "team_ids_not_playing_saturday = [\n",
    "    reversed_team_ids[team] for team in teams_not_playing_saturday\n",
    "]"
   ]
  },
  {
   "cell_type": "code",
   "execution_count": null,
   "metadata": {},
   "outputs": [],
   "source": [
    "played_players[\n",
    "    (played_players[\"Position\"] == \"D\")\n",
    "    & (played_players[\"TeamID\"].isin(team_ids_not_playing_saturday))\n",
    "].sort_values(by=\"sum scores AT week\", ascending=False).iloc[0:10]"
   ]
  },
  {
   "cell_type": "code",
   "execution_count": null,
   "metadata": {},
   "outputs": [],
   "source": [
    "played_players[\n",
    "    (played_players[\"TeamID\"].isin(team_ids_not_playing_saturday))\n",
    "].sort_values(by=\"sum scores AT week\", ascending=False).iloc[0:10]"
   ]
  },
  {
   "cell_type": "code",
   "execution_count": null,
   "metadata": {},
   "outputs": [],
   "source": [
    "\n",
    "played_players[\n",
    "    (played_players[\"LeagueTeamID\"].isna())\n",
    "    & (played_players[\"Position\"] == \"D\")\n",
    "    & (played_players[\"TeamID\"].isin(team_ids_not_playing_saturday))\n",
    "].sort_values(by=\"sum scores AT week\", ascending=False).iloc[0:10]"
   ]
  },
  {
   "cell_type": "code",
   "execution_count": null,
   "metadata": {},
   "outputs": [],
   "source": [
    "teams_playing_all_weekend = [\n",
    "    \"Boston Bruins\",\n",
    "    \"Buffalo Sabres\",\n",
    "    \"Carolina Hurricanes\",\n",
    "    \"Chicago Blackhawks\",\n",
    "    \"Florida Panthers\",\n",
    "    \"Los Angeles Kings\",\n",
    "    \"Nashville Predators\",\n",
    "    \"Philadelphia Flyers\",\n",
    "    \"St. Louis Blues\",\n",
    "    \"Tampa Bay Lightning\",\n",
    "    \"Vegas Golden Knights\",\n",
    "]\n",
    "reversed_team_ids = {v: k for k, v in team_dict.items()}\n",
    "team_ids_playing_all_weekend = [\n",
    "    reversed_team_ids[team] for team in teams_playing_all_weekend\n",
    "]\n",
    "played_players[\n",
    "    (played_players[\"LeagueTeamID\"].isna())\n",
    "    & (played_players[\"TeamID\"].isin(team_ids_playing_all_weekend))\n",
    "].sort_values(by=\"sum scores AT weekend\", ascending=False).iloc[0:10]"
   ]
  },
  {
   "cell_type": "code",
   "execution_count": null,
   "metadata": {},
   "outputs": [],
   "source": [
    "played_players[\n",
    "    (played_players[\"LeagueTeamID\"].isna())\n",
    "    & (played_players[\"Position\"].str.contains(\"D\"))\n",
    "].sort_values(by=\"sum scores AT weekend\", ascending=False)[[\"Name\",\"Position\",\"InjuryStatus\",\"sum scores 15 weekend\",\"sum scores 30 weekend\",\"sum scores AT weekend\"]].iloc[0:10]"
   ]
  },
  {
   "cell_type": "code",
   "execution_count": null,
   "metadata": {},
   "outputs": [],
   "source": [
    "played_players.columns"
   ]
  },
  {
   "cell_type": "code",
   "execution_count": null,
   "metadata": {},
   "outputs": [],
   "source": [
    "played_players[\n",
    "    (played_players[\"LeagueTeamID\"].isna())\n",
    "].sort_values(by=\"sum scores AT week\", ascending=False)[[\"Name\",\"TeamID\",\"Position\",\"InjuryStatus\",\"sum scores 15 week\",\"sum scores 30 week\",\"sum scores AT week\"]].iloc[0:20]"
   ]
  },
  {
   "cell_type": "code",
   "execution_count": null,
   "metadata": {},
   "outputs": [],
   "source": [
    "played_players[played_players[\"Name\"]==\"Juraj Slafkovsky\"][[\"Name\",\"Position\",\"InjuryStatus\",\"sum scores 15 single\",\"sum scores 30 single\",\"sum scores AT single\"]]"
   ]
  },
  {
   "cell_type": "code",
   "execution_count": null,
   "metadata": {},
   "outputs": [],
   "source": [
    "played_players[(played_players[\"LeagueTeamID\"].isna())].sort_values(\n",
    "    by=\"sum scores 30 single\", ascending=False\n",
    ")[[\"Name\",\"Position\",\"InjuryStatus\",\"sum scores 15 single\",\"sum scores 30 single\",\"sum scores AT single\"]].iloc[0:20]"
   ]
  },
  {
   "cell_type": "code",
   "execution_count": null,
   "metadata": {},
   "outputs": [],
   "source": [
    "my_players.sort_values(by=\"sum scores 15 week\", ascending=True)"
   ]
  },
  {
   "cell_type": "markdown",
   "metadata": {},
   "source": [
    "## Simulation"
   ]
  },
  {
   "cell_type": "code",
   "execution_count": null,
   "metadata": {},
   "outputs": [],
   "source": [
    "skater_cats = [\n",
    "    \"goals\",\n",
    "    \"assists\",\n",
    "    \"plus_minus\",\n",
    "    \"penalty_minutes\",\n",
    "    \"power play points\",\n",
    "    \"FOW\",\n",
    "    \"average_time_on_ice\",\n",
    "    \"shots_on_goal\",\n",
    "    \"hits\",\n",
    "    \"blocks\",\n",
    "]"
   ]
  },
  {
   "cell_type": "code",
   "execution_count": null,
   "metadata": {},
   "outputs": [],
   "source": [
    "metric = \"30\"\n",
    "\n",
    "skater_data = data[(data[\"Position\"] != \"GK\")]\n",
    "\n",
    "played_players = skater_data.copy()\n",
    "\n",
    "played_players[\"Team\"] = played_players[\"TeamID\"].map(team_dict)\n",
    "\n",
    "for cat in skater_cats:\n",
    "    played_players[cat] = played_players[cat + metric]\n",
    "played_players = played_players[[\"ID\", \"Name\", \"Team\", \"LeagueTeamID\"] + skater_cats]"
   ]
  },
  {
   "cell_type": "code",
   "execution_count": null,
   "metadata": {},
   "outputs": [],
   "source": [
    "games = pd.read_csv(\"../schedules/playoff_week_2_games.csv\")\n",
    "# games = pd.read_csv(\"schedules/penultimate_week.csv\")\n",
    "\n",
    "opp_team_id = 3\n",
    "\n",
    "g_team = played_players[played_players[\"LeagueTeamID\"] == 8]\n",
    "opp_team = played_players[played_players[\"LeagueTeamID\"] == opp_team_id]"
   ]
  },
  {
   "cell_type": "code",
   "execution_count": null,
   "metadata": {},
   "outputs": [],
   "source": [
    "len(g_team), len(opp_team)"
   ]
  },
  {
   "cell_type": "code",
   "execution_count": null,
   "metadata": {},
   "outputs": [],
   "source": [
    "current_opp_scores_list = [0 for _ in skater_cats]\n",
    "current_g_scores_list = [0 for _ in skater_cats]\n",
    "\n",
    "\n",
    "current_g_atoi = 0\n",
    "current_g_players = 1\n",
    "current_opp_atoi = 0\n",
    "current_opp_players = 1\n",
    "\n",
    "current_opp_scores = {\n",
    "    skater_cats[i]: current_opp_scores_list[i] for i in range(len(skater_cats))\n",
    "}\n",
    "current_g_scores = {\n",
    "    skater_cats[i]: current_g_scores_list[i] for i in range(len(skater_cats))\n",
    "}\n",
    "\n",
    "\n",
    "dropped_days_g = {}\n",
    "dropped_days_opp = {}\n",
    "swapped_days_g = {}\n",
    "swapped_days_opp = {}"
   ]
  },
  {
   "cell_type": "code",
   "execution_count": null,
   "metadata": {},
   "outputs": [],
   "source": [
    "swapped_days_g[\"Monday\"] = [(\"Sean Monahan\",),(\"Ryan Donato\",),(\"Dmitri Voronkov\", \"Mathieu Olivier\")]\n",
    "dropped_days_g[\"Thursday\"]=[\"Boone Jenner\"]\n",
    "if opp_team_id == 1:\n",
    "    swapped_days_opp[\"Monday\"] = [(\"Phillip Danault\",),('Charlie McAvoy',)]\n",
    "    dropped_days_opp[\"Thursday\"] = [\"Ivan Barbashev\", \"Filip Hronek\"]\n",
    "    dropped_days_opp[\"Saturday\"] = [\"Ivan Barbashev\", \"Filip Hronek\"]\n",
    "    swapped_days_g[\"Saturday\"] = [\n",
    "    (\"Adam Fantilli\", \"Ryan Donato\"),\n",
    "    (\"Zach Werenski\", \"Morgan Geekie\"),\n",
    "    (\"Boone Jenner\",\"Erik Cernak\")]\n",
    "    swapped_days_g[\"Sunday\"] = [(\"Vince Dunn\",\"Jason Zucker\")]\n",
    "elif opp_team_id == 3:\n",
    "    swapped_days_opp[\"Monday\"] = [\n",
    "        (\"Tony DeAngelo\",),\n",
    "        (\"Noah Dobson\",),\n",
    "        (\"Dylan Holloway\",),\n",
    "    ]\n",
    "    swapped_days_g[\"Saturday\"] = [\n",
    "    (\"Adam Fantilli\", \"Ryan Donato\"),\n",
    "    (\"Zach Werenski\", \"Morgan Geekie\"),\n",
    "    (\"Boone Jenner\",\"Niko Mikkola\")]\n",
    "    swapped_days_g[\"Sunday\"] = [(\"Vince Dunn\",\"Jason Zucker\"),(\"Brandon Montour\",\"Rasmus Ristolainen\")]\n",
    "    dropped_days_g[\"Thursday\"] = [\"Jesper Bratt\"]\n",
    "    dropped_days_opp[\"Thursday\"] = [\"Steven Stamkos\", \"JJ Peterka\", \"Josh Norris\"]\n",
    "    dropped_days_opp[\"Saturday\"] = [\"JJ Peterka\"]\n"
   ]
  },
  {
   "cell_type": "code",
   "execution_count": null,
   "metadata": {},
   "outputs": [],
   "source": [
    "swapped_days_g[\"Monday\"] = [(\"Sean Monahan\",),(\"Ryan Donato\",)]\n",
    "dropped_days_g[\"Thursday\"]=[\"Boone Jenner\"]\n",
    "if opp_team_id == 1:\n",
    "    swapped_days_opp[\"Monday\"] = [(\"Phillip Danault\",),('Charlie McAvoy',)]\n",
    "    dropped_days_opp[\"Thursday\"] = [\"Ivan Barbashev\", \"Filip Hronek\"]\n",
    "    dropped_days_opp[\"Saturday\"] = [\"Ivan Barbashev\", \"Filip Hronek\"]\n",
    "    swapped_days_g[\"Saturday\"] = [\n",
    "    (\"Adam Fantilli\", \"Ryan Donato\"),\n",
    "    (\"Zach Werenski\", \"Morgan Geekie\"),\n",
    "    (\"Dmitri Voronkov\", \"Luke Schenn\"),\n",
    "    (\"Boone Jenner\",\"Erik Cernak\")]\n",
    "    swapped_days_g[\"Sunday\"] = [(\"Vince Dunn\",\"Jason Zucker\")]\n",
    "elif opp_team_id == 3:\n",
    "    swapped_days_opp[\"Monday\"] = [\n",
    "        (\"Tony DeAngelo\",),\n",
    "        (\"Noah Dobson\",),\n",
    "        (\"Dylan Holloway\",),\n",
    "    ]\n",
    "    swapped_days_g[\"Saturday\"] = [\n",
    "    (\"Adam Fantilli\", \"Ryan Donato\"),\n",
    "    (\"Zach Werenski\", \"Morgan Geekie\"),\n",
    "    (\"Dmitri Voronkov\", \"Shayne Gostisbehere\"),\n",
    "    (\"Boone Jenner\",\"Niko Mikkola\")]\n",
    "    swapped_days_g[\"Sunday\"] = [(\"Vince Dunn\",\"Jason Zucker\")]\n",
    "    dropped_days_opp[\"Thursday\"] = [\"Steven Stamkos\", \"JJ Peterka\", \"Josh Norris\"]\n",
    "    dropped_days_opp[\"Saturday\"] = [\"JJ Peterka\"]\n"
   ]
  },
  {
   "cell_type": "code",
   "execution_count": null,
   "metadata": {},
   "outputs": [],
   "source": [
    "# current_day = \"Saturday\"\n",
    "current_day = None\n",
    "predict_tomorrow = False"
   ]
  },
  {
   "cell_type": "code",
   "execution_count": null,
   "metadata": {},
   "outputs": [],
   "source": [
    "teams = (g_team,opp_team)\n",
    "scores = (current_g_scores,current_opp_scores)\n",
    "swapped_days = (swapped_days_g,swapped_days_opp)\n",
    "dropped_days = (dropped_days_g,dropped_days_opp)\n",
    "current_players = (current_g_players,current_opp_players)\n",
    "overall_wins,win_cats,num_players,win_differences = get_week_predictions(teams, played_players,games,skater_cats,scores,swapped_days,dropped_days,current_players,current_day=current_day,predict_tomorrow=predict_tomorrow)\n",
    "\n",
    "print(overall_wins)\n",
    "print(\"Win cats: \", win_cats)\n",
    "print(num_players)"
   ]
  },
  {
   "cell_type": "code",
   "execution_count": null,
   "metadata": {},
   "outputs": [],
   "source": [
    "for cat_ind,cat in enumerate(skater_cats):\n",
    "    print(f\"{cat:<20} {win_differences[cat_ind]}\")"
   ]
  }
 ],
 "metadata": {
  "kernelspec": {
   "display_name": "Python 3",
   "language": "python",
   "name": "python3"
  },
  "language_info": {
   "codemirror_mode": {
    "name": "ipython",
    "version": 3
   },
   "file_extension": ".py",
   "mimetype": "text/x-python",
   "name": "python",
   "nbconvert_exporter": "python",
   "pygments_lexer": "ipython3",
   "version": "3.11.0"
  }
 },
 "nbformat": 4,
 "nbformat_minor": 2
}
