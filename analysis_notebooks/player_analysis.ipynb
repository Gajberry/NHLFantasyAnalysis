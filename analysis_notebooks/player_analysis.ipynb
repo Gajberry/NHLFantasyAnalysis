{
 "cells": [
  {
   "cell_type": "markdown",
   "metadata": {},
   "source": [
    "## Player Analysis"
   ]
  },
  {
   "cell_type": "markdown",
   "metadata": {},
   "source": [
    "This notebook retrieves player data from the ESPN for three time periods: 15 days, 30 days and the season. It then normalises each category and multiplies by the option scoring weights. With the categories normalised and weighted, the sums are determined and the players compared."
   ]
  },
  {
   "cell_type": "code",
   "execution_count": null,
   "metadata": {},
   "outputs": [],
   "source": [
    "import pandas as pd"
   ]
  },
  {
   "cell_type": "code",
   "execution_count": null,
   "metadata": {},
   "outputs": [],
   "source": [
    "%load_ext autoreload\n",
    "%autoreload 2"
   ]
  },
  {
   "cell_type": "code",
   "execution_count": null,
   "metadata": {},
   "outputs": [],
   "source": [
    "import sys\n",
    "sys.path.append(\"..\")\n",
    "from base_python_files.api_info import *\n",
    "from base_python_files.credentials import *\n",
    "from base_python_files.api_functions import *\n",
    "from base_python_files.stat_functions import *"
   ]
  },
  {
   "cell_type": "code",
   "execution_count": null,
   "metadata": {},
   "outputs": [],
   "source": [
    "d = retrieve_espn_data(swid,espn_s2,league_id)\n",
    "data = clean_data(d)"
   ]
  },
  {
   "cell_type": "code",
   "execution_count": null,
   "metadata": {},
   "outputs": [],
   "source": [
    "data[\"Team\"] = data[\"TeamID\"].map(team_dict)\n"
   ]
  },
  {
   "cell_type": "code",
   "execution_count": null,
   "metadata": {},
   "outputs": [],
   "source": [
    "skater_cats = [\n",
    "    \"FOW\",\n",
    "    \"assists\",\n",
    "    \"average_time_on_ice\",\n",
    "    \"blocks\",\n",
    "    \"goals\",\n",
    "    \"hits\",\n",
    "    \"penalty_minutes\",\n",
    "    \"plus_minus\",\n",
    "    \"power play points\",\n",
    "    \"shots_on_goal\",\n",
    "]"
   ]
  },
  {
   "cell_type": "code",
   "execution_count": null,
   "metadata": {},
   "outputs": [],
   "source": [
    "scoring_weights = {\n",
    "    \"FOW\": 1,\n",
    "    \"assists\": 1,\n",
    "    \"average_time_on_ice\": 1,\n",
    "    \"blocks\": 1,\n",
    "    \"goals\": 1,\n",
    "    \"hits\": 1,\n",
    "    \"penalty_minutes\": 1,\n",
    "    \"plus_minus\": 1,\n",
    "    \"power play points\": 1,\n",
    "    \"shots_on_goal\": 1,\n",
    "}"
   ]
  },
  {
   "cell_type": "code",
   "execution_count": null,
   "metadata": {},
   "outputs": [],
   "source": [
    "played_players = get_player_scores(data,scoring_weights,opp_id = 8)"
   ]
  },
  {
   "cell_type": "code",
   "execution_count": null,
   "metadata": {},
   "outputs": [],
   "source": [
    "\n",
    "my_players = played_players[(played_players[\"LeagueTeamID\"] == 8)]\n",
    "available_players = played_players[\n",
    "    (played_players[\"InjuryStatus\"] == \"ACTIVE\")\n",
    "    & (played_players[\"LeagueTeamID\"].isna())\n",
    "]"
   ]
  },
  {
   "cell_type": "code",
   "execution_count": null,
   "metadata": {},
   "outputs": [],
   "source": [
    "my_players.sort_values(\n",
    "    by=\"sum scores 30\", ascending=True\n",
    ").iloc[0:26]"
   ]
  },
  {
   "cell_type": "code",
   "execution_count": null,
   "metadata": {},
   "outputs": [],
   "source": [
    "other_team = 7\n",
    "played_players[(played_players[\"LeagueTeamID\"] == other_team)].sort_values(\n",
    "    by=\"sum scores 30\", ascending=True\n",
    ")"
   ]
  },
  {
   "cell_type": "code",
   "execution_count": null,
   "metadata": {},
   "outputs": [],
   "source": [
    "played_players[(played_players[\"LeagueTeamID\"].isna())].sort_values(\n",
    "    by=\"sum scores AT\", ascending=False\n",
    ").iloc[0:40]"
   ]
  },
  {
   "cell_type": "code",
   "execution_count": null,
   "metadata": {},
   "outputs": [],
   "source": [
    "played_players[\n",
    "    (played_players[\"LeagueTeamID\"].isna())\n",
    "    & (played_players[\"Position\"].str.contains(\"D\"))\n",
    "].sort_values(by=\"sum scores AT\", ascending=False).iloc[0:40]"
   ]
  },
  {
   "cell_type": "code",
   "execution_count": null,
   "metadata": {},
   "outputs": [],
   "source": [
    "played_players[(played_players[\"Name\"] == \"Juraj Slafkovsky\")]"
   ]
  },
  {
   "cell_type": "code",
   "execution_count": null,
   "metadata": {},
   "outputs": [],
   "source": [
    "played_players[\n",
    "    (played_players[\"LeagueTeamID\"].isna())\n",
    "    & (played_players[\"Position\"].str.contains(\"LW\"))\n",
    "].sort_values(by=\"sum scores proj\", ascending=False).iloc[0:50]"
   ]
  },
  {
   "cell_type": "code",
   "execution_count": null,
   "metadata": {},
   "outputs": [],
   "source": [
    "# Team analysis, over the sum of all players\n",
    "\n",
    "for teamId in range(1, 9):\n",
    "    print(\n",
    "        teamId,\n",
    "        len(played_players[played_players[\"LeagueTeamID\"] == teamId]),\n",
    "        played_players[played_players[\"LeagueTeamID\"] == teamId][\"sum scores AT\"].sum(),\n",
    "        played_players[played_players[\"LeagueTeamID\"] == teamId][\"sum scores 30\"].sum(),\n",
    "        played_players[played_players[\"LeagueTeamID\"] == teamId][\"sum scores 15\"].sum(),\n",
    "    )"
   ]
  }
 ],
 "metadata": {
  "kernelspec": {
   "display_name": "Python 3",
   "language": "python",
   "name": "python3"
  },
  "language_info": {
   "codemirror_mode": {
    "name": "ipython",
    "version": 3
   },
   "file_extension": ".py",
   "mimetype": "text/x-python",
   "name": "python",
   "nbconvert_exporter": "python",
   "pygments_lexer": "ipython3",
   "version": "3.11.0"
  }
 },
 "nbformat": 4,
 "nbformat_minor": 2
}
