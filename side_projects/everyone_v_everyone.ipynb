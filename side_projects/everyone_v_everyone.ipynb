{
 "cells": [
  {
   "cell_type": "markdown",
   "metadata": {},
   "source": [
    "## Everyone vs Everyone\n",
    "What if instead of pairing up each week, everyone played everyone. Who would win?"
   ]
  },
  {
   "cell_type": "code",
   "execution_count": null,
   "metadata": {},
   "outputs": [],
   "source": [
    "import pandas as pd\n",
    "import numpy as np"
   ]
  },
  {
   "cell_type": "code",
   "execution_count": null,
   "metadata": {},
   "outputs": [],
   "source": [
    "%load_ext autoreload\n",
    "%autoreload 2"
   ]
  },
  {
   "cell_type": "code",
   "execution_count": null,
   "metadata": {},
   "outputs": [],
   "source": [
    "import sys\n",
    "sys.path.append(\"..\")\n",
    "from base_python_files.api_info import *\n",
    "from base_python_files.credentials import *\n",
    "from base_python_files.api_functions import *\n",
    "from base_python_files.stat_functions import *"
   ]
  },
  {
   "cell_type": "code",
   "execution_count": null,
   "metadata": {},
   "outputs": [],
   "source": [
    "d = retrieve_espn_data(swid,espn_s2,league_id)\n",
    "data = clean_data(d)"
   ]
  },
  {
   "cell_type": "markdown",
   "metadata": {},
   "source": [
    "Generate a matrix of winrates across all the weeks, where each row/column is a team.\n"
   ]
  },
  {
   "cell_type": "code",
   "execution_count": null,
   "metadata": {},
   "outputs": [],
   "source": [
    "team_week_scores = {}\n",
    "team_matrix = np.zeros((8,8))\n",
    "min_weeks = 0\n",
    "weeks = 22\n",
    "for week in range(min_weeks,weeks):\n",
    "    team_scores = retrieve_espn_matchup(swid,espn_s2,league_id,week=week)\n",
    "    for team_id in team_scores:\n",
    "        wins = 0\n",
    "        draws = 0\n",
    "        losses = 0\n",
    "        total_cat_wins = 0\n",
    "        total_cat_losses = 0\n",
    "        total_cat_draws = 0\n",
    "        for second_team_id in team_scores:\n",
    "            if team_id==second_team_id:\n",
    "                continue\n",
    "            cats_won = 0\n",
    "            cats_lost = 0\n",
    "            team = team_scores[team_id]\n",
    "            second_team = team_scores[second_team_id]\n",
    "            for score_cat in team:\n",
    "                if team[score_cat]>second_team[score_cat]:\n",
    "                    cats_won+=1\n",
    "                elif team[score_cat]<second_team[score_cat]:\n",
    "                    cats_lost+=1\n",
    "            total_cat_wins+=cats_won\n",
    "            total_cat_losses+=cats_lost\n",
    "            total_cat_draws+=13-cats_won-cats_lost\n",
    "            if cats_won>cats_lost:\n",
    "                wins+=1\n",
    "                team_matrix[team_id-1,second_team_id-1]+=1\n",
    "                team_matrix[second_team_id-1,team_id-1]-=1\n",
    "            elif cats_won<cats_lost:\n",
    "                losses+=1\n",
    "                team_matrix[team_id-1,second_team_id-1]-=1\n",
    "                team_matrix[second_team_id-1,team_id-1]+=1\n",
    "            else:\n",
    "                draws+=1\n",
    "            # if week == 15 and team_id==8:\n",
    "                # print('ID', second_team_id,'Winning',cats_won,'Losing',cats_lost)\n",
    "        if team_id in team_week_scores:\n",
    "            team_week_scores[team_id]+=np.array([wins,losses,draws,total_cat_wins,total_cat_losses,total_cat_draws])\n",
    "        else:\n",
    "            team_week_scores[team_id]=np.array([wins,losses,draws,total_cat_wins,total_cat_losses,total_cat_draws])\n",
    "\n",
    "team_matrix/=(weeks-1-min_weeks+1)*2      \n",
    "    "
   ]
  },
  {
   "cell_type": "code",
   "execution_count": null,
   "metadata": {},
   "outputs": [],
   "source": [
    "plt.imshow(team_matrix)\n",
    "plt.colorbar()\n",
    "plt.suptitle(f\"Vs table for the first {weeks} weeks showing win rates for the attacking team.\")\n",
    "plt.title(f\"0=draw on average, 1=always win, -1=always lose\")\n",
    "plt.xlabel(\"Defending Team\")\n",
    "plt.ylabel(\"Attacking Team\")"
   ]
  },
  {
   "cell_type": "code",
   "execution_count": null,
   "metadata": {},
   "outputs": [],
   "source": [
    "team_week_infos = {}\n",
    "for team in team_week_scores:\n",
    "    team_week_infos[team]={\n",
    "        \"wins\":team_week_scores[team][0],\n",
    "        \"losses\":team_week_scores[team][1],\n",
    "        \"draws\":team_week_scores[team][2],\n",
    "        \"win percentage\":team_week_scores[team][0]/(team_week_scores[team][0]+team_week_scores[team][1]+team_week_scores[team][2]),\n",
    "        \"win or draw percentage\":(team_week_scores[team][0]+team_week_scores[team][2])/(team_week_scores[team][0]+team_week_scores[team][1]+team_week_scores[team][2]),\n",
    "        \"category wins\":team_week_scores[team][3],\n",
    "        \"category losses\":team_week_scores[team][4],\n",
    "        \"category draws\":team_week_scores[team][5],\n",
    "        \"category win percentage\":team_week_scores[team][3]/(team_week_scores[team][3]+team_week_scores[team][4]+team_week_scores[team][5]),\n",
    "        \"category win or draw percentage\":(team_week_scores[team][3]+team_week_scores[team][5])/(team_week_scores[team][3]+team_week_scores[team][4]+team_week_scores[team][5]),\n",
    "\n",
    "    }"
   ]
  },
  {
   "cell_type": "code",
   "execution_count": null,
   "metadata": {},
   "outputs": [],
   "source": [
    "sorting_key = \"win percentage\" \n",
    "ordered_scores = [f'Team: {x[0]}, {sorting_key}: {x[1][sorting_key]}' for x in sorted(team_week_infos.items(),key=lambda x:x[1][sorting_key],reverse=True)]\n",
    "ordered_scores"
   ]
  },
  {
   "cell_type": "code",
   "execution_count": null,
   "metadata": {},
   "outputs": [],
   "source": [
    "sorting_key = \"win or draw percentage\" \n",
    "ordered_scores = [f'Team: {x[0]}, {sorting_key}: {x[1][sorting_key]}' for x in sorted(team_week_infos.items(),key=lambda x:x[1][sorting_key],reverse=True)]\n",
    "ordered_scores"
   ]
  },
  {
   "cell_type": "code",
   "execution_count": null,
   "metadata": {},
   "outputs": [],
   "source": [
    "sorting_key = \"category win percentage\"\n",
    "ordered_scores = [f'Team: {x[0]}, {sorting_key}: {x[1][sorting_key]}' for x in sorted(team_week_infos.items(),key=lambda x:x[1][sorting_key],reverse=True)]\n",
    "ordered_scores"
   ]
  },
  {
   "cell_type": "code",
   "execution_count": null,
   "metadata": {},
   "outputs": [],
   "source": [
    "sorting_key = \"category win or draw percentage\"\n",
    "ordered_scores = [f'Team: {x[0]}, {sorting_key}: {x[1][sorting_key]}' for x in sorted(team_week_infos.items(),key=lambda x:x[1][sorting_key],reverse=True)]\n",
    "ordered_scores"
   ]
  },
  {
   "cell_type": "markdown",
   "metadata": {},
   "source": [
    "### What are each player's best scores for each category?"
   ]
  },
  {
   "cell_type": "code",
   "execution_count": null,
   "metadata": {},
   "outputs": [],
   "source": [
    "best_scores = {p:{} for p in range(1,9)}\n",
    "min_weeks = 1\n",
    "weeks = 18\n",
    "for g_team_id in range(1,9):\n",
    "    cat_wins = {}\n",
    "    for week in range(min_weeks,weeks):\n",
    "        team_scores = retrieve_espn_matchup(swid,espn_s2,league_id,week=week)\n",
    "        for opp_team_id in range(1,9):\n",
    "            opp_team = team_scores[opp_team_id]\n",
    "            for cat in opp_team:\n",
    "                if cat not in best_scores[opp_team_id] or opp_team[cat] > best_scores[opp_team_id][cat][0]:\n",
    "                    best_scores[opp_team_id][cat]=(opp_team[cat],week)"
   ]
  },
  {
   "cell_type": "code",
   "execution_count": null,
   "metadata": {},
   "outputs": [],
   "source": [
    "best_scores"
   ]
  }
 ],
 "metadata": {
  "kernelspec": {
   "display_name": "Python 3",
   "language": "python",
   "name": "python3"
  },
  "language_info": {
   "codemirror_mode": {
    "name": "ipython",
    "version": 3
   },
   "file_extension": ".py",
   "mimetype": "text/x-python",
   "name": "python",
   "nbconvert_exporter": "python",
   "pygments_lexer": "ipython3",
   "version": "3.11.0"
  }
 },
 "nbformat": 4,
 "nbformat_minor": 2
}
