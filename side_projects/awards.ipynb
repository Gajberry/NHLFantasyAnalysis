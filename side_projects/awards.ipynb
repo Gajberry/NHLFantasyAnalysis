{
 "cells": [
  {
   "cell_type": "markdown",
   "metadata": {},
   "source": [
    "### Notebook for finding categories that our teams excel at, so that each team gets an award"
   ]
  },
  {
   "cell_type": "code",
   "execution_count": null,
   "metadata": {},
   "outputs": [],
   "source": [
    "import pandas as pd"
   ]
  },
  {
   "cell_type": "code",
   "execution_count": null,
   "metadata": {},
   "outputs": [],
   "source": [
    "import sys\n",
    "sys.path.append(\"..\")\n",
    "from base_python_files.api_info import *\n",
    "from base_python_files.credentials import *\n",
    "from base_python_files.api_functions import *\n",
    "from base_python_files.stat_functions import *"
   ]
  },
  {
   "cell_type": "code",
   "execution_count": null,
   "metadata": {},
   "outputs": [],
   "source": [
    "d = retrieve_espn_data(swid,espn_s2,league_id)\n",
    "data = clean_data(d)"
   ]
  },
  {
   "cell_type": "code",
   "execution_count": null,
   "metadata": {},
   "outputs": [],
   "source": [
    "skater_cats = [\n",
    "    \"FOW\",\n",
    "    \"assists\",\n",
    "    \"average_time_on_ice\",\n",
    "    \"blocks\",\n",
    "    \"goals\",\n",
    "    \"hits\",\n",
    "    \"penalty_minutes\",\n",
    "    \"plus_minus\",\n",
    "    \"power play points\",\n",
    "    \"shots_on_goal\",\n",
    "]"
   ]
  },
  {
   "cell_type": "code",
   "execution_count": null,
   "metadata": {},
   "outputs": [],
   "source": [
    "possible_max_categories = skater_cats+['short handed goals','short handed assists','game winning goals','special team points','clean_sheets','shots_at_them','saves','over_time_loss','FOPercent']\n",
    "possible_min_categories = ['goals against average','goals against']\n",
    "\n",
    "award_df = data[~data[\"LeagueTeamID\"].isna()].copy()"
   ]
  },
  {
   "cell_type": "code",
   "execution_count": null,
   "metadata": {},
   "outputs": [],
   "source": [
    "for cat in possible_max_categories:\n",
    "    try:\n",
    "        award_df['test'] = award_df[cat+'AT']-award_df[cat+'proj']\n",
    "        top = award_df[[\"Name\",\"LeagueTeamID\",cat+'AT',cat+'proj',\"games_playedAT\",'test']].sort_values(by='test',ascending=False)\n",
    "        if (7 in list(top.iloc[:4]['LeagueTeamID'])) :\n",
    "            print()\n",
    "            print(cat)\n",
    "            print(top.iloc[:4])\n",
    "    except KeyError:\n",
    "        print(f\"No columns: {cat}\")"
   ]
  },
  {
   "cell_type": "code",
   "execution_count": null,
   "metadata": {},
   "outputs": [],
   "source": [
    "award_df.sort_values(by=\"hatricksAT\",ascending=False)[[\"Name\",\"LeagueTeamID\",\"hatricksAT\",\"games_playedAT\"]]"
   ]
  },
  {
   "cell_type": "code",
   "execution_count": null,
   "metadata": {},
   "outputs": [],
   "source": [
    "birth_dates_df = pd.read_csv(\"player_bios.csv\",header=0)\n",
    "birth_dates_df[\"Age\"]=pd.to_datetime('today').year-pd.to_datetime(birth_dates_df[\"DOB\"]).dt.year\n",
    "birth_dates_df"
   ]
  },
  {
   "cell_type": "code",
   "execution_count": null,
   "metadata": {},
   "outputs": [],
   "source": [
    "for i in range(1,9):\n",
    "    award_team_df= award_df[award_df[\"LeagueTeamID\"]==i]\n",
    "    ages = birth_dates_df[birth_dates_df[\"Player\"].isin(list(award_team_df[\"Name\"]))][\"Age\"]\n",
    "    print(i,ages.sum()/len(ages))"
   ]
  },
  {
   "cell_type": "code",
   "execution_count": null,
   "metadata": {},
   "outputs": [],
   "source": [
    "league_team_awards ={k:{} for k in range(1,9)}\n",
    "\n",
    "for cat in possible_max_categories:\n",
    "    if cat not in [\"games_played\"] and cat+\"AT\" in award_df.columns:\n",
    "        \n",
    "        cat_term = cat+\"AT\"\n",
    "        if cat ==\"FOPercent\":\n",
    "            cat_df =award_df[award_df[\"FOWAT\"]>10][[\"Name\",\"LeagueTeamID\",cat_term,\"games_playedAT\"]].copy()\n",
    "        elif cat==\"average_time_on_ice\":\n",
    "            cat_df=award_df[award_df[\"Position\"]!=\"GK\"][[\"Name\",\"LeagueTeamID\",cat_term,\"games_playedAT\"]].copy()\n",
    "        else:\n",
    "            cat_df = award_df[[\"Name\",\"LeagueTeamID\",cat_term,\"games_playedAT\"]].copy()\n",
    "        cat_df[cat_term]=cat_df[cat_term]*cat_df[\"games_playedAT\"]\n",
    "        top = cat_df.sort_values(by=cat_term,ascending=False).iloc[0:4]\n",
    "        if top[cat_term].iloc[0]==top[cat_term].iloc[1]:\n",
    "            print()\n",
    "            print(\"DRAW\")\n",
    "            print(cat_term)\n",
    "            print(top)\n",
    "        else:\n",
    "            league_team_awards[int(top.iloc[0][\"LeagueTeamID\"])][cat]=top.iloc[0]"
   ]
  },
  {
   "cell_type": "code",
   "execution_count": null,
   "metadata": {},
   "outputs": [],
   "source": [
    "league_team_awards"
   ]
  },
  {
   "cell_type": "code",
   "execution_count": null,
   "metadata": {},
   "outputs": [],
   "source": [
    "birth_places = pd.read_csv(\"birthplaces_BC.csv\",header=1)\n",
    "birth_places"
   ]
  },
  {
   "cell_type": "code",
   "execution_count": null,
   "metadata": {},
   "outputs": [],
   "source": [
    "for i in range(1,9):\n",
    "    award_team_df = award_df[award_df[\"LeagueTeamID\"]==i]\n",
    "    print(i,len(award_team_df[award_team_df[\"Name\"].isin(birth_places[\"Player\"])]))"
   ]
  },
  {
   "cell_type": "code",
   "execution_count": null,
   "metadata": {},
   "outputs": [],
   "source": [
    "award_df['test']=award_df['shots_on_goalAT']+award_df['hitsAT']+award_df['blocksAT']\n",
    "award_df.sort_values(by='test',ascending=False)[['Name','test']]"
   ]
  }
 ],
 "metadata": {
  "kernelspec": {
   "display_name": "Python 3",
   "language": "python",
   "name": "python3"
  },
  "language_info": {
   "codemirror_mode": {
    "name": "ipython",
    "version": 3
   },
   "file_extension": ".py",
   "mimetype": "text/x-python",
   "name": "python",
   "nbconvert_exporter": "python",
   "pygments_lexer": "ipython3",
   "version": "3.11.0"
  }
 },
 "nbformat": 4,
 "nbformat_minor": 2
}
