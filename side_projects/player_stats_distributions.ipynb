{
 "cells": [
  {
   "cell_type": "markdown",
   "metadata": {},
   "source": [
    "# Player Stat Distributions"
   ]
  },
  {
   "cell_type": "markdown",
   "metadata": {},
   "source": [
    "A fun notebook exploring the distribution of the sum of normalised scores from stat_functions. It looks like the left hand side of a normal distribution rotated (which would make sense)."
   ]
  },
  {
   "cell_type": "code",
   "execution_count": null,
   "metadata": {},
   "outputs": [],
   "source": [
    "import pandas as pd\n",
    "import matplotlib.pyplot as plt\n",
    "import numpy as np"
   ]
  },
  {
   "cell_type": "code",
   "execution_count": null,
   "metadata": {},
   "outputs": [],
   "source": [
    "%load_ext autoreload\n",
    "%autoreload 2"
   ]
  },
  {
   "cell_type": "code",
   "execution_count": null,
   "metadata": {},
   "outputs": [],
   "source": [
    "import sys\n",
    "sys.path.append(\"..\")\n",
    "from base_python_files.api_info import *\n",
    "from base_python_files.credentials import *\n",
    "from base_python_files.api_functions import *\n",
    "from base_python_files.stat_functions import *"
   ]
  },
  {
   "cell_type": "code",
   "execution_count": null,
   "metadata": {},
   "outputs": [],
   "source": [
    "d = retrieve_espn_data(swid,espn_s2,league_id)\n",
    "data = clean_data(d)"
   ]
  },
  {
   "cell_type": "code",
   "execution_count": null,
   "metadata": {},
   "outputs": [],
   "source": [
    "skater_cats = [\n",
    "    \"FOW\",\n",
    "    \"assists\",\n",
    "    \"average_time_on_ice\",\n",
    "    \"blocks\",\n",
    "    \"goals\",\n",
    "    \"hits\",\n",
    "    \"penalty_minutes\",\n",
    "    \"plus_minus\",\n",
    "    \"power play points\",\n",
    "    \"shots_on_goal\",\n",
    "]"
   ]
  },
  {
   "cell_type": "code",
   "execution_count": null,
   "metadata": {},
   "outputs": [],
   "source": [
    "scoring_weights = {\n",
    "    \"FOW\": 1,\n",
    "    \"assists\": 1,\n",
    "    \"average_time_on_ice\": 1,\n",
    "    \"blocks\": 1,\n",
    "    \"goals\": 1,\n",
    "    \"hits\": 1,\n",
    "    \"penalty_minutes\": 1,\n",
    "    \"plus_minus\": 0,\n",
    "    \"power play points\": 1,\n",
    "    \"shots_on_goal\": 1,\n",
    "}"
   ]
  },
  {
   "cell_type": "code",
   "execution_count": null,
   "metadata": {},
   "outputs": [],
   "source": [
    "played_players = get_player_scores(data,scoring_weights,opp_id = None)"
   ]
  },
  {
   "cell_type": "code",
   "execution_count": null,
   "metadata": {},
   "outputs": [],
   "source": [
    "num_players = 700\n",
    "regime = \"AT\"\n",
    "top_players = played_players.sort_values(\n",
    "    by=f\"sum scores {regime}\", ascending=False\n",
    ").iloc[:num_players]\n",
    "not_in_team = top_players[top_players[\"LeagueTeamID\"].isna()]\n",
    "colours = [\"blue\" if x else \"red\" for x in top_players[\"LeagueTeamID\"].isna()]\n",
    "plt.scatter(range(num_players), top_players[f\"sum scores {regime}\"], c=colours)\n",
    "plt.xlabel(\"Ranking\")\n",
    "plt.ylabel(\"Score\")\n",
    "plt.suptitle(f\"Top {num_players} players normalized scores summed over all categories\")\n",
    "plt.title(\"Players rostered in red, unrostered in blue\")"
   ]
  },
  {
   "cell_type": "code",
   "execution_count": null,
   "metadata": {},
   "outputs": [],
   "source": [
    "num_players = 200\n",
    "regime = \"AT\"\n",
    "top_players = played_players.sort_values(\n",
    "    by=f\"sum scores {regime}\", ascending=False\n",
    ").iloc[:num_players]\n",
    "not_in_team = top_players[top_players[\"LeagueTeamID\"].isna()]\n",
    "colours = [\"blue\" if x else \"red\" for x in top_players[\"LeagueTeamID\"].isna()]\n",
    "colours = [\"green\" if x else colours[ind] for ind,x in enumerate(list(top_players[\"LeagueTeamID\"]==8))]\n",
    "plt.scatter(range(num_players), top_players[f\"sum scores {regime}\"], c=colours)\n",
    "plt.xlabel(\"Ranking\")\n",
    "plt.ylabel(\"Score\")\n",
    "plt.xlabel(\"Ranking\")\n",
    "plt.ylabel(\"Score\")\n",
    "plt.suptitle(f\"Top {num_players} players normalized scores summed over all categories\")\n",
    "plt.title(\"Players rostered in red, unrostered in blue, on my team in green\")"
   ]
  },
  {
   "cell_type": "code",
   "execution_count": null,
   "metadata": {},
   "outputs": [],
   "source": [
    "not_in_team"
   ]
  },
  {
   "cell_type": "code",
   "execution_count": null,
   "metadata": {},
   "outputs": [],
   "source": [
    "top_players[top_players[\"LeagueTeamID\"]==8]"
   ]
  }
 ],
 "metadata": {
  "kernelspec": {
   "display_name": "Python 3",
   "language": "python",
   "name": "python3"
  },
  "language_info": {
   "codemirror_mode": {
    "name": "ipython",
    "version": 3
   },
   "file_extension": ".py",
   "mimetype": "text/x-python",
   "name": "python",
   "nbconvert_exporter": "python",
   "pygments_lexer": "ipython3",
   "version": "3.11.0"
  }
 },
 "nbformat": 4,
 "nbformat_minor": 2
}
