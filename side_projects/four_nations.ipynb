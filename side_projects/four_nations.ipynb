{
 "cells": [
  {
   "cell_type": "markdown",
   "metadata": {},
   "source": [
    "# Four Nations"
   ]
  },
  {
   "cell_type": "markdown",
   "metadata": {},
   "source": [
    "What if our fantasy league happened over the four nations? How would everyone do, and what 'awards' would everyone get?"
   ]
  },
  {
   "cell_type": "code",
   "execution_count": null,
   "metadata": {},
   "outputs": [],
   "source": [
    "import requests\n",
    "from tqdm import tqdm\n",
    "import numpy as np\n",
    "import matplotlib.pyplot as plt\n",
    "import math\n",
    "import json\n",
    "import pandas as pd"
   ]
  },
  {
   "cell_type": "code",
   "execution_count": null,
   "metadata": {},
   "outputs": [],
   "source": [
    "import sys\n",
    "sys.path.append(\"..\")\n",
    "from base_python_files.api_info import *\n",
    "from base_python_files.credentials import *\n",
    "from base_python_files.api_functions import *\n"
   ]
  },
  {
   "cell_type": "code",
   "execution_count": null,
   "metadata": {},
   "outputs": [],
   "source": [
    "gameIDs = []\n",
    "month = '02'\n",
    "days = range(10,22)\n",
    "for day in tqdm(days):\n",
    "    if len(str(day))==1:\n",
    "        day = \"0\"+str(day)\n",
    "    day_url = f\"https://api-web.nhle.com/v1/score/2025-{month}-{day}\"\n",
    "    r=requests.get(day_url)\n",
    "    try:\n",
    "        gameIDs+=[game[\"id\"] for game in r.json()['games']]\n",
    "    except:\n",
    "        print(month,day)\n",
    "        pass"
   ]
  },
  {
   "cell_type": "code",
   "execution_count": null,
   "metadata": {},
   "outputs": [],
   "source": [
    "d = retrieve_espn_data(swid,espn_s2,league_id)\n",
    "data = clean_data(d)"
   ]
  },
  {
   "cell_type": "code",
   "execution_count": null,
   "metadata": {},
   "outputs": [],
   "source": [
    "def convert_to_default(name):\n",
    "    parts = name.split()\n",
    "    return f\"{parts[0][0]}. {' '.join(parts[1:])}\"\n"
   ]
  },
  {
   "cell_type": "code",
   "execution_count": null,
   "metadata": {},
   "outputs": [],
   "source": [
    "players = data[~data['LeagueTeamID'].isna()]\n",
    "players['DefaultName'] = players['Name'].apply(convert_to_default)\n",
    "players.index=players['DefaultName']"
   ]
  },
  {
   "cell_type": "code",
   "execution_count": null,
   "metadata": {},
   "outputs": [],
   "source": [
    "players_ids = players['LeagueTeamID'].to_dict()"
   ]
  },
  {
   "cell_type": "code",
   "execution_count": null,
   "metadata": {},
   "outputs": [],
   "source": [
    "score_cats = ['starter','saves','shotsAgainst','goals','assists','toi','players','sog','hits','blockedShots','pim','plusMinus','faceoffWinningPctg','faceoffplayers','wins','powerPlayGoals','powerPlayAssists']"
   ]
  },
  {
   "cell_type": "code",
   "execution_count": null,
   "metadata": {},
   "outputs": [],
   "source": [
    "score_dict = {\n",
    "    cat:0 for cat in score_cats\n",
    "}"
   ]
  },
  {
   "cell_type": "code",
   "execution_count": null,
   "metadata": {},
   "outputs": [],
   "source": [
    "scores = {\n",
    "    k:score_dict.copy() for k in range(1,9)\n",
    "}"
   ]
  },
  {
   "cell_type": "code",
   "execution_count": null,
   "metadata": {},
   "outputs": [],
   "source": [
    "all_cats = []\n",
    "all_tois = {}\n",
    "for game in tqdm(gameIDs):\n",
    "    game_url = f\"https://api-web.nhle.com/v1/gamecenter/{game}/boxscore\"\n",
    "    try:\n",
    "        all_player_stats=requests.get(game_url).json()['playerByGameStats']\n",
    "        for team_type in ['awayTeam','homeTeam']:\n",
    "            for position in ['forwards','defense','goalies']:\n",
    "                for player in all_player_stats[team_type][position]:\n",
    "                    if player['name']['default'] in list(players_ids.keys()):\n",
    "                        team_id = int(players_ids[player['name']['default']])\n",
    "                        for cat in player:\n",
    "                            if cat not in all_cats:\n",
    "                                all_cats.append(cat)\n",
    "                            if cat in score_cats and cat!='toi':\n",
    "                                scores[team_id][cat]+=player[cat]\n",
    "                            elif cat=='toi':\n",
    "                                temp_name = player['name']['default']\n",
    "                                player_time = 60*int(player[cat][0:2])+int(player[cat][3:])\n",
    "                                scores[team_id][cat]+=player_time\n",
    "                                if temp_name in all_tois:\n",
    "                                    all_tois[temp_name].append(player_time)\n",
    "                                    \n",
    "                                else:\n",
    "                                    all_tois[temp_name] = [player_time]\n",
    "                            if cat=='faceoffWinningPctg' and player[cat]>0:\n",
    "                                scores[team_id]['faceoffplayers']+=1\n",
    "                            if cat=='decision':\n",
    "                                if player[cat]=='W':\n",
    "                                    scores[team_id]['wins']+=1\n",
    "                        scores[team_id]['players']+=1\n",
    "                    else:\n",
    "                        print('PLAYER NOT IN A TEAM:', player['name']['default'])      \n",
    "    except KeyError:\n",
    "        print('No game', game)"
   ]
  },
  {
   "cell_type": "code",
   "execution_count": null,
   "metadata": {},
   "outputs": [],
   "source": [
    "all_tois_average = {}\n",
    "for player in all_tois:\n",
    "    all_tois_average[player]=np.mean(all_tois[player])"
   ]
  },
  {
   "cell_type": "code",
   "execution_count": null,
   "metadata": {},
   "outputs": [],
   "source": [
    "all_tois_average_list = list(all_tois_average.items())\n",
    "all_tois_average_list.sort(key=lambda x:x[1])"
   ]
  },
  {
   "cell_type": "code",
   "execution_count": null,
   "metadata": {},
   "outputs": [],
   "source": [
    "all_tois_average_list.reverse()"
   ]
  },
  {
   "cell_type": "code",
   "execution_count": null,
   "metadata": {},
   "outputs": [],
   "source": [
    "all_tois_average_list"
   ]
  },
  {
   "cell_type": "code",
   "execution_count": null,
   "metadata": {},
   "outputs": [],
   "source": [
    "for team_id in range(1,9):\n",
    "    scores[team_id]['atoi']=scores[team_id]['toi']/scores[team_id]['players']/60\n",
    "    if scores[team_id]['shotsAgainst']==0:\n",
    "        scores[team_id]['savePctg']=0\n",
    "    else:\n",
    "        scores[team_id]['savePctg']=scores[team_id]['saves']/scores[team_id]['shotsAgainst']\n",
    "    scores[team_id]['powerPlayPoints']=scores[team_id]['powerPlayGoals']+scores[team_id]['powerPlayAssists']"
   ]
  },
  {
   "cell_type": "code",
   "execution_count": null,
   "metadata": {},
   "outputs": [],
   "source": [
    "final_score_cats = ['powerPlayPoints','starter','savePctg','goals','assists','atoi','sog','hits','blockedShots','pim','plusMinus','faceoffWinningPctg','wins']"
   ]
  },
  {
   "cell_type": "code",
   "execution_count": null,
   "metadata": {},
   "outputs": [],
   "source": [
    "\n",
    "for cat in scores[1]:\n",
    "    highest = 0\n",
    "    highest_team = []\n",
    "    for i in range(1,9):\n",
    "        if scores[i][cat]/scores[i]['players']>highest:\n",
    "            highest = scores[i][cat]/scores[i]['players']\n",
    "            highest_team=[i]\n",
    "        elif scores[i][cat]/scores[i]['players']==highest:\n",
    "            highest_team.append(i)\n",
    "\n",
    "    print(cat,highest_team,highest)"
   ]
  },
  {
   "cell_type": "code",
   "execution_count": null,
   "metadata": {},
   "outputs": [],
   "source": []
  },
  {
   "cell_type": "code",
   "execution_count": null,
   "metadata": {},
   "outputs": [],
   "source": [
    "\n",
    "for cat in scores[1]:\n",
    "    highest = 0\n",
    "    highest_team = []\n",
    "    for i in range(1,9):\n",
    "        if scores[i][cat]>highest:\n",
    "            highest = scores[i][cat]\n",
    "            highest_team=[i]\n",
    "        elif scores[i][cat]==highest:\n",
    "            highest_team.append(i)\n",
    "\n",
    "    print(cat,highest_team,highest)"
   ]
  },
  {
   "cell_type": "code",
   "execution_count": null,
   "metadata": {},
   "outputs": [],
   "source": [
    "for team_id in range(1,9):\n",
    "    scores[team_id] = {k:scores[team_id][k] for k in final_score_cats}"
   ]
  },
  {
   "cell_type": "code",
   "execution_count": null,
   "metadata": {},
   "outputs": [],
   "source": [
    "team_week_scores = {}\n",
    "team_matrix = np.zeros((8,8))\n",
    "min_weeks = 0\n",
    "weeks = 18\n",
    "\n",
    "for team_id in scores:\n",
    "    wins = 0\n",
    "    draws = 0\n",
    "    losses = 0\n",
    "    total_cat_wins = 0\n",
    "    total_cat_losses = 0\n",
    "    total_cat_draws = 0\n",
    "    for second_team_id in scores:\n",
    "        if team_id==second_team_id:\n",
    "            continue\n",
    "        cats_won = 0\n",
    "        cats_lost = 0\n",
    "        team = scores[team_id]\n",
    "        second_team = scores[second_team_id]\n",
    "        for score_cat in team:\n",
    "            if team[score_cat]>second_team[score_cat]:\n",
    "                cats_won+=1\n",
    "            elif team[score_cat]<second_team[score_cat]:\n",
    "                cats_lost+=1\n",
    "        total_cat_wins+=cats_won\n",
    "        total_cat_losses+=cats_lost\n",
    "        total_cat_draws+=13-cats_won-cats_lost\n",
    "        if cats_won>cats_lost:\n",
    "            wins+=1\n",
    "            team_matrix[team_id-1,second_team_id-1]+=1\n",
    "            team_matrix[second_team_id-1,team_id-1]-=1\n",
    "        elif cats_won<cats_lost:\n",
    "            losses+=1\n",
    "            team_matrix[team_id-1,second_team_id-1]-=1\n",
    "            team_matrix[second_team_id-1,team_id-1]+=1\n",
    "        else:\n",
    "            draws+=1\n",
    "        # if week == 15 and team_id==8:\n",
    "            # print('ID', second_team_id,'Winning',cats_won,'Losing',cats_lost)\n",
    "    if team_id in team_week_scores:\n",
    "        team_week_scores[team_id]+=np.array([wins,losses,draws,total_cat_wins,total_cat_losses,total_cat_draws])\n",
    "    else:\n",
    "        team_week_scores[team_id]=np.array([wins,losses,draws,total_cat_wins,total_cat_losses,total_cat_draws])\n",
    "    "
   ]
  },
  {
   "cell_type": "code",
   "execution_count": null,
   "metadata": {},
   "outputs": [],
   "source": [
    "sorted(team_week_scores.items(),key=lambda x:x[1][0],reverse=True)"
   ]
  },
  {
   "cell_type": "code",
   "execution_count": null,
   "metadata": {},
   "outputs": [],
   "source": [
    "plt.imshow(team_matrix)\n",
    "plt.colorbar()"
   ]
  }
 ],
 "metadata": {
  "kernelspec": {
   "display_name": "Python 3",
   "language": "python",
   "name": "python3"
  },
  "language_info": {
   "codemirror_mode": {
    "name": "ipython",
    "version": 3
   },
   "file_extension": ".py",
   "mimetype": "text/x-python",
   "name": "python",
   "nbconvert_exporter": "python",
   "pygments_lexer": "ipython3",
   "version": "3.11.0"
  }
 },
 "nbformat": 4,
 "nbformat_minor": 2
}
